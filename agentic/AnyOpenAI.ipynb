{
 "cells": [
  {
   "metadata": {},
   "cell_type": "markdown",
   "source": "#  OpenAI Agentics",
   "id": "d929f79eb5dcccb"
  },
  {
   "metadata": {
    "ExecuteTime": {
     "end_time": "2025-10-02T16:58:28.886545Z",
     "start_time": "2025-10-02T16:58:28.881558Z"
    }
   },
   "cell_type": "code",
   "source": [
    "# pip install openai\n",
    "# pip install open-agents\n",
    "from datetime import datetime\n",
    "\n",
    "print('Hello, World!')\n",
    "dateTime = datetime.now().isoformat()\n",
    "print(f\"dateTime: {dateTime}\")"
   ],
   "id": "bd983331d4d5ae5d",
   "outputs": [
    {
     "name": "stdout",
     "output_type": "stream",
     "text": [
      "Hello, World!\n",
      "dateTime: 2025-10-02T12:58:28.884401\n"
     ]
    }
   ],
   "execution_count": 1
  }
 ],
 "metadata": {
  "kernelspec": {
   "display_name": "Python 3",
   "language": "python",
   "name": "python3"
  },
  "language_info": {
   "codemirror_mode": {
    "name": "ipython",
    "version": 2
   },
   "file_extension": ".py",
   "mimetype": "text/x-python",
   "name": "python",
   "nbconvert_exporter": "python",
   "pygments_lexer": "ipython2",
   "version": "2.7.6"
  }
 },
 "nbformat": 4,
 "nbformat_minor": 5
}
