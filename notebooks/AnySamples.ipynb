{
 "cells": [
  {
   "metadata": {},
   "cell_type": "markdown",
   "source": [
    "* RECURSION\n",
    "* GENERATORS\n",
    "* EXCEPTIONS\n",
    "* COLORS!\n",
    "* PYTEST\n",
    "* DECORATORS"
   ],
   "id": "2d345256ccdb7e73"
  },
  {
   "metadata": {},
   "cell_type": "markdown",
   "source": "# RECURSION",
   "id": "e462a606a7fa9206"
  },
  {
   "metadata": {},
   "cell_type": "code",
   "source": [
    "def factorial(number):\n",
    "\tfactorial = 1\n",
    "\tfor x in range(1, number + 1):\n",
    "\t\tfactorial *= x\n",
    "\n",
    "\treturn factorial\n",
    "\n",
    "\n",
    "print(factorial(5))\n",
    "\n",
    "\n",
    "# Samples\n",
    "def recursion(number):\n",
    "\tif number <= 1:\n",
    "\t\treturn 1\n",
    "\treturn number * recursion(number - 1)\n",
    "\n",
    "\n",
    "print(recursion(5))"
   ],
   "id": "71bb0f98e82e46bc",
   "outputs": [],
   "execution_count": null
  },
  {
   "metadata": {},
   "cell_type": "markdown",
   "source": "# GENERATORS",
   "id": "529e75f75af2431b"
  },
  {
   "metadata": {},
   "cell_type": "code",
   "source": [
    "def generator():\n",
    "\tfor i in range(1, 4):\n",
    "\t\tyield i\n",
    "\n",
    "\n",
    "generation = generator()\n",
    "print(next(generation), end=\" \")\n",
    "print(next(generation), end=\" \")\n",
    "print(next(generation), end=\" \")\n",
    "\n",
    "print()\n",
    "for x in generator(): print(x, end=\" \")\n",
    "\n",
    "print()\n",
    "numbers = list(generator())\n",
    "print(numbers)\n"
   ],
   "id": "5622784842a0c661",
   "outputs": [],
   "execution_count": null
  },
  {
   "metadata": {},
   "cell_type": "markdown",
   "source": "# EXCEPTIONS",
   "id": "9563d1a54dab0a06"
  },
  {
   "metadata": {},
   "cell_type": "code",
   "source": [
    "'''\n",
    "BaseException > Exception > SystemExit > KeyboardInterrupt ...\n",
    "\tArithmeticError > LookupError > TypeError > ValueError ...\n",
    "\t\tZeroDivisionError | IndexError, KeyError\n",
    "'''\n",
    "samples = [ 10, 81.0, 'a', 0, -1 ]\n",
    "for sample in samples:\n",
    "\n",
    "\ttry:\n",
    "\t\tassert (sample != -1)\n",
    "\t\tvalue = sample\n",
    "\t\tprint(f'---Inverse of {value} is {1 / value}!')\n",
    "\n",
    "\texcept (ValueError, ZeroDivisionError) as ex:\n",
    "\t\tprint (f'sample: {sample}, ex: {ex}')\n",
    "\t\tprint(f'\\tValueError: Invalid Integer!', ValueError.__name__)\n",
    "\t\tprint(f'\\tZeroDivisionError: Can NOT use Zero!', ZeroDivisionError.__name__)\n",
    "\texcept TypeError as ex:\n",
    "\t\tprint(f'sample: {sample}, TypeError: Wrong data type!', TypeError.__name__)\n",
    "\texcept AssertionError as ex:\n",
    "\t\tprint(f'sample: {sample}, AssertionError: Unfulfilled assertion!', AssertionError.__name__)\n",
    "\texcept:\n",
    "\t\tprint(f'sample: {sample}, Exception: Something Strange!', Exception.__name__)\n",
    "\n"
   ],
   "id": "b55fae9a04a7544d",
   "outputs": [],
   "execution_count": null
  },
  {
   "metadata": {},
   "cell_type": "code",
   "source": "",
   "id": "585014316399eff3",
   "outputs": [],
   "execution_count": null
  },
  {
   "metadata": {},
   "cell_type": "markdown",
   "source": "# COLORS!",
   "id": "d7192916d2864fb3"
  },
  {
   "metadata": {},
   "cell_type": "code",
   "source": [
    "# ░ ▒ ▓ █ ▄ ▀ ▌ ▐ ▬ ■ ─ ═ ► ◄ ▲ ▼ √ • ↨ ↔︎ ↑ ↓ → ←\n",
    "# on_red, on_green, on_yellow, on_blue, on_magenta, on_cyan, on_white, on_black\n",
    "# bold dark underline blink reverse concealed\n",
    "from termcolor import colored\n",
    "\n",
    "colors = [ 'red', 'yellow', 'green', 'cyan',  'blue', 'magenta', 'white', 'black' ]\n",
    "[ print(colored('▬', color, attrs=['bold']), end='') for color in colors ]\n",
    "\n",
    "print(colored('Hello, World!', 'green'))\n",
    "print(colored('Success!', 'yellow', attrs=['bold']))\n",
    "print(colored(' Warning! ', 'black', attrs=['bold'], on_color='on_red'))\n",
    "print('DONE')\n"
   ],
   "id": "6849035610546158",
   "outputs": [],
   "execution_count": null
  },
  {
   "metadata": {},
   "cell_type": "markdown",
   "source": "# PYTEST",
   "id": "916d693657411397"
  },
  {
   "metadata": {},
   "cell_type": "code",
   "source": [
    "import test_samples\n",
    "\n",
    "test_samples.test_equation0()\n",
    "\n",
    "def test_add():\n",
    "\tassert test_samples.add(2, 3) == 5\n",
    "\tassert test_samples.add(-1, 1) == 0\n",
    "\tassert test_samples.add(0, 0) == 0\n",
    "\treturn 'COMPLETE!'\n",
    "\n",
    "print( test_add() )\n"
   ],
   "id": "d748fc20398e0149",
   "outputs": [],
   "execution_count": null
  },
  {
   "metadata": {},
   "cell_type": "markdown",
   "source": "# DECORATORS",
   "id": "dbd4417af7983ba8"
  },
  {
   "metadata": {
    "ExecuteTime": {
     "end_time": "2025-09-24T18:01:29.952532Z",
     "start_time": "2025-09-24T18:01:29.933499Z"
    }
   },
   "cell_type": "code",
   "source": [
    "import time, atexit, os, sys\n",
    "from functools import cache\n",
    "\n",
    "@cache\n",
    "def countVowels(text: str) -> int:\n",
    "\n",
    "\tvowelCount: int = 0\n",
    "\tprint(f'Bot: Counting vowels in \"{text}\"...')\n",
    "\ttime.sleep(1)\n",
    "\n",
    "\tfor letter in text:\n",
    "\t\tif letter in 'aeiouAEIOU':\n",
    "\t\t\tvowelCount += 1\n",
    "\treturn vowelCount\n",
    "\n",
    "def mainCheck() -> None:\n",
    "\tprint(countVowels('Bob'))\n",
    "\tprint(countVowels('Bob'))\n",
    "\tprint(countVowels('Bob'))\n",
    "\tprint(countVowels('George'))\n",
    "\tprint(countVowels.cache_info())\n",
    "\tcountVowels.cache_clear()\n",
    "\tprint(countVowels.cache_info())\n",
    "\n",
    "print()\n",
    "\n",
    "@atexit.register # not in notebooks?\n",
    "def exiting() -> None:\n",
    "\tprint('DONE!')\n",
    "\n",
    "def main() -> None:\n",
    "\tfor i in range(10): print(i, end=' ')\n",
    "\n",
    "if __name__ == '__main__':\n",
    "\t#mainCheck()\n",
    "\tmain()\n",
    "\t#sys.exit()\n"
   ],
   "id": "cb84df6c0adf8f48",
   "outputs": [
    {
     "name": "stdout",
     "output_type": "stream",
     "text": [
      "\n",
      "0 1 2 3 4 5 6 7 8 9 "
     ]
    },
    {
     "ename": "SystemExit",
     "evalue": "",
     "output_type": "error",
     "traceback": [
      "An exception has occurred, use %tb to see the full traceback.\n",
      "\u001B[31mSystemExit\u001B[39m\n"
     ]
    },
    {
     "name": "stderr",
     "output_type": "stream",
     "text": [
      "C:\\workspace\\github\\python\\notebooks\\.venv\\Lib\\site-packages\\IPython\\core\\interactiveshell.py:3707: UserWarning: To exit: use 'exit', 'quit', or Ctrl-D.\n",
      "  warn(\"To exit: use 'exit', 'quit', or Ctrl-D.\", stacklevel=1)\n"
     ]
    }
   ],
   "execution_count": 20
  }
 ],
 "metadata": {
  "kernelspec": {
   "display_name": "Python 3",
   "language": "python",
   "name": "python3"
  },
  "language_info": {
   "codemirror_mode": {
    "name": "ipython",
    "version": 2
   },
   "file_extension": ".py",
   "mimetype": "text/x-python",
   "name": "python",
   "nbconvert_exporter": "python",
   "pygments_lexer": "ipython2",
   "version": "2.7.6"
  }
 },
 "nbformat": 4,
 "nbformat_minor": 5
}
