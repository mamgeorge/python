{
 "cells": [
  {
   "metadata": {},
   "cell_type": "markdown",
   "source": "# RECURSION",
   "id": "e462a606a7fa9206"
  },
  {
   "metadata": {},
   "cell_type": "code",
   "source": [
    "def factorial(number):\n",
    "\tfactorial = 1\n",
    "\tfor x in range(1, number + 1):\n",
    "\t\tfactorial *= x\n",
    "\n",
    "\treturn factorial\n",
    "\n",
    "\n",
    "print(factorial(5))\n",
    "\n",
    "\n",
    "# Samples\n",
    "def recursion(number):\n",
    "\tif number <= 1:\n",
    "\t\treturn 1\n",
    "\treturn number * recursion(number - 1)\n",
    "\n",
    "\n",
    "print(recursion(5))"
   ],
   "id": "71bb0f98e82e46bc",
   "outputs": [],
   "execution_count": null
  },
  {
   "metadata": {},
   "cell_type": "markdown",
   "source": "# GENERATORS",
   "id": "529e75f75af2431b"
  },
  {
   "metadata": {},
   "cell_type": "code",
   "source": [
    "def generator():\n",
    "\tfor i in range(1, 4):\n",
    "\t\tyield i\n",
    "\n",
    "\n",
    "generation = generator()\n",
    "print(next(generation), end=\" \")\n",
    "print(next(generation), end=\" \")\n",
    "print(next(generation), end=\" \")\n",
    "\n",
    "print()\n",
    "for x in generator(): print(x, end=\" \")\n",
    "\n",
    "print()\n",
    "numbers = list(generator())\n",
    "print(numbers)\n"
   ],
   "id": "5622784842a0c661",
   "outputs": [],
   "execution_count": null
  },
  {
   "metadata": {},
   "cell_type": "markdown",
   "source": "# EXCEPTIONS",
   "id": "9563d1a54dab0a06"
  },
  {
   "metadata": {},
   "cell_type": "code",
   "source": [
    "'''\n",
    "BaseException > Exception > SystemExit > KeyboardInterrupt ...\n",
    "\tArithmeticError > LookupError > TypeError > ValueError ...\n",
    "\t\tZeroDivisionError | IndexError, KeyError\n",
    "'''\n",
    "samples = [ 10, 81.0, 'a', 0, -1 ]\n",
    "for sample in samples:\n",
    "\n",
    "\ttry:\n",
    "\t\t# value = int(input('Enter an Integer: '))\n",
    "\t\tassert (sample != -1)\n",
    "\t\tvalue = sample\n",
    "\t\tprint(f'---Inverse of {value} is {1 / value}!')\n",
    "\texcept ValueError:\n",
    "\t\tprint(f'ValueError: Invalid Integer!', ValueError.__name__)\n",
    "\texcept ZeroDivisionError:\n",
    "\t\tprint(f'ZeroDivisionError: Can NOT use Zero!', ZeroDivisionError.__name__)\n",
    "\texcept TypeError:\n",
    "\t\tprint(f'TypeError: Wrong data type!', TypeError.__name__)\n",
    "\texcept AssertionError:\n",
    "\t\tprint(f'AssertionError: Unfulfilled assertion!', AssertionError.__name__)\n",
    "\texcept:\n",
    "\t\tprint(f'Exception: Something Strange!', Exception.__name__)\n",
    "\n"
   ],
   "id": "b55fae9a04a7544d",
   "outputs": [],
   "execution_count": null
  },
  {
   "metadata": {},
   "cell_type": "code",
   "source": "",
   "id": "585014316399eff3",
   "outputs": [],
   "execution_count": null
  },
  {
   "metadata": {},
   "cell_type": "markdown",
   "source": "# PYTEST",
   "id": "916d693657411397"
  },
  {
   "metadata": {
    "ExecuteTime": {
     "end_time": "2025-09-23T22:21:54.942995Z",
     "start_time": "2025-09-23T22:21:54.937757Z"
    }
   },
   "cell_type": "code",
   "source": [
    "import test_samples\n",
    "from termcolor import colored\n",
    "\n",
    "test_samples.test_equation0()\n",
    "\n",
    "def test_add():\n",
    "\tassert test_samples.add(2, 3) == 5\n",
    "\tassert test_samples.add(-1, 1) == 0\n",
    "\tassert test_samples.add(0, 0) == 0\n",
    "\treturn 'COMPLETE!'\n",
    "\n",
    "print( test_add() )\n",
    "\n",
    "# ░ ▒ ▓ █ ▄ ▀ ▌ ▐ ▬ ■ ─ ═ ► ◄ ▲ ▼ √ • ↨ ↔︎ ↑ ↓ → ←\n",
    "# on_red, on_green, on_yellow, on_blue, on_magenta, on_cyan, on_white, on_black\n",
    "# bold dark underline blink reverse concealed\n",
    "colors = [ 'red', 'yellow', 'green', 'cyan',  'blue', 'magenta', 'white', 'black' ]\n",
    "[ print(colored('▬', color, attrs=['bold']), end='') for color in colors ]\n",
    "\n",
    "print(colored('Hello, World!', 'green'))\n",
    "print(colored('Success!', 'yellow', attrs=['bold']))\n",
    "print(colored(' Warning! ', 'black', attrs=['bold'], on_color='on_red'))\n",
    "\n",
    "print('DONE')\n",
    "\n",
    "\n"
   ],
   "id": "d748fc20398e0149",
   "outputs": [
    {
     "name": "stdout",
     "output_type": "stream",
     "text": [
      "test_equation PASSED\n",
      "COMPLETE!\n",
      "\u001B[1m\u001B[31m▬\u001B[0m\u001B[1m\u001B[33m▬\u001B[0m\u001B[1m\u001B[32m▬\u001B[0m\u001B[1m\u001B[36m▬\u001B[0m\u001B[1m\u001B[34m▬\u001B[0m\u001B[1m\u001B[35m▬\u001B[0m\u001B[1m\u001B[97m▬\u001B[0m\u001B[1m\u001B[30m▬\u001B[0m\u001B[32mHello, World!\u001B[0m\n",
      "\u001B[1m\u001B[33mSuccess!\u001B[0m\n",
      "\u001B[1m\u001B[41m\u001B[30m Warning! \u001B[0m\n",
      "DONE\n"
     ]
    }
   ],
   "execution_count": 23
  },
  {
   "metadata": {},
   "cell_type": "code",
   "source": "",
   "id": "4ba5bbfeee802570",
   "outputs": [],
   "execution_count": null
  }
 ],
 "metadata": {
  "kernelspec": {
   "display_name": "Python 3",
   "language": "python",
   "name": "python3"
  },
  "language_info": {
   "codemirror_mode": {
    "name": "ipython",
    "version": 2
   },
   "file_extension": ".py",
   "mimetype": "text/x-python",
   "name": "python",
   "nbconvert_exporter": "python",
   "pygments_lexer": "ipython2",
   "version": "2.7.6"
  }
 },
 "nbformat": 4,
 "nbformat_minor": 5
}
