{
 "cells": [
  {
   "metadata": {},
   "cell_type": "markdown",
   "source": [
    "* RECURSION\n",
    "* GENERATORS\n",
    "* EXCEPTIONS\n",
    "* COLORS!/SOUND!\n",
    "* PYTEST\n",
    "* DECORATORS"
   ],
   "id": "2d345256ccdb7e73"
  },
  {
   "metadata": {},
   "cell_type": "markdown",
   "source": "# RECURSION",
   "id": "e462a606a7fa9206"
  },
  {
   "metadata": {},
   "cell_type": "code",
   "source": [
    "def factorial(number):\n",
    "\tfactorial = 1\n",
    "\tfor x in range(1, number + 1):\n",
    "\t\tfactorial *= x\n",
    "\n",
    "\treturn factorial\n",
    "\n",
    "\n",
    "print(factorial(5))\n",
    "\n",
    "\n",
    "# Samples\n",
    "def recursion(number):\n",
    "\tif number <= 1:\n",
    "\t\treturn 1\n",
    "\treturn number * recursion(number - 1)\n",
    "\n",
    "\n",
    "print(recursion(5))"
   ],
   "id": "71bb0f98e82e46bc",
   "outputs": [],
   "execution_count": null
  },
  {
   "metadata": {},
   "cell_type": "markdown",
   "source": "# GENERATORS",
   "id": "529e75f75af2431b"
  },
  {
   "metadata": {},
   "cell_type": "code",
   "source": [
    "def generator():\n",
    "\tfor i in range(1, 4):\n",
    "\t\tyield i\n",
    "\n",
    "\n",
    "generation = generator()\n",
    "print(next(generation), end=\" \")\n",
    "print(next(generation), end=\" \")\n",
    "print(next(generation), end=\" \")\n",
    "\n",
    "print()\n",
    "for x in generator(): print(x, end=\" \")\n",
    "\n",
    "print()\n",
    "numbers = list(generator())\n",
    "print(numbers)\n"
   ],
   "id": "5622784842a0c661",
   "outputs": [],
   "execution_count": null
  },
  {
   "metadata": {},
   "cell_type": "markdown",
   "source": "# EXCEPTIONS",
   "id": "9563d1a54dab0a06"
  },
  {
   "metadata": {},
   "cell_type": "code",
   "source": [
    "'''\n",
    "BaseException > Exception > SystemExit > KeyboardInterrupt ...\n",
    "\tArithmeticError > LookupError > TypeError > ValueError ...\n",
    "\t\tZeroDivisionError | IndexError, KeyError\n",
    "'''\n",
    "samples = [ 10, 81.0, 'a', 0, -1 ]\n",
    "for sample in samples:\n",
    "\n",
    "\ttry:\n",
    "\t\tassert (sample != -1)\n",
    "\t\tvalue = sample\n",
    "\t\tprint(f'---Inverse of {value} is {1 / value}!')\n",
    "\n",
    "\texcept (ValueError, ZeroDivisionError) as ex:\n",
    "\t\tprint (f'sample: {sample}, ex: {ex}')\n",
    "\t\tprint(f'\\tValueError: Invalid Integer!', ValueError.__name__)\n",
    "\t\tprint(f'\\tZeroDivisionError: Can NOT use Zero!', ZeroDivisionError.__name__)\n",
    "\texcept TypeError as ex:\n",
    "\t\tprint(f'sample: {sample}, TypeError: Wrong data type!', TypeError.__name__)\n",
    "\texcept AssertionError as ex:\n",
    "\t\tprint(f'sample: {sample}, AssertionError: Unfulfilled assertion!', AssertionError.__name__)\n",
    "\texcept:\n",
    "\t\tprint(f'sample: {sample}, Exception: Something Strange!', Exception.__name__)\n",
    "\n"
   ],
   "id": "b55fae9a04a7544d",
   "outputs": [],
   "execution_count": null
  },
  {
   "metadata": {},
   "cell_type": "code",
   "source": "",
   "id": "585014316399eff3",
   "outputs": [],
   "execution_count": null
  },
  {
   "metadata": {},
   "cell_type": "markdown",
   "source": "# COLORS!",
   "id": "4942b8465c91e874"
  },
  {
   "metadata": {
    "ExecuteTime": {
     "end_time": "2025-09-24T23:31:47.493330Z",
     "start_time": "2025-09-24T23:31:47.488787Z"
    }
   },
   "cell_type": "code",
   "source": [
    "# ░ ▒ ▓ █ ▄ ▀ ▌ ▐ ▬ ■ ─ ═ ► ◄ ▲ ▼ √ • ↨ ↔︎ ↑ ↓ → ←\n",
    "# on_red, on_green, on_yellow, on_blue, on_magenta, on_cyan, on_white, on_black\n",
    "# bold dark underline blink reverse concealed\n",
    "from termcolor import colored\n",
    "\n",
    "colors = [ 'red', 'yellow', 'green', 'cyan',  'blue', 'magenta', 'white', 'black']\n",
    "[ print(colored('▬', color, attrs=['bold']), end='') for color in colors ]\n",
    "\n",
    "print(colored('Hello, World!', 'green'))\n",
    "print(colored('Success!', 'yellow', attrs=['bold']))\n",
    "print(colored(' Warning! ', 'black', attrs=['bold'], on_color='on_red'))\n"
   ],
   "id": "6849035610546158",
   "outputs": [
    {
     "name": "stdout",
     "output_type": "stream",
     "text": [
      "\u001B[1m\u001B[31m▬\u001B[0m\u001B[1m\u001B[33m▬\u001B[0m\u001B[1m\u001B[32m▬\u001B[0m\u001B[1m\u001B[36m▬\u001B[0m\u001B[1m\u001B[34m▬\u001B[0m\u001B[1m\u001B[35m▬\u001B[0m\u001B[1m\u001B[97m▬\u001B[0m\u001B[1m\u001B[30m▬\u001B[0m\u001B[32mHello, World!\u001B[0m\n",
      "\u001B[1m\u001B[33mSuccess!\u001B[0m\n",
      "\u001B[1m\u001B[41m\u001B[30m Warning! \u001B[0m\n",
      "----------------------------------------\n"
     ]
    }
   ],
   "execution_count": 8
  },
  {
   "metadata": {},
   "cell_type": "markdown",
   "source": "# SOUND!",
   "id": "9801a5e7b280e673"
  },
  {
   "metadata": {
    "ExecuteTime": {
     "end_time": "2025-09-24T23:41:43.162097Z",
     "start_time": "2025-09-24T23:41:29.300898Z"
    }
   },
   "cell_type": "code",
   "source": [
    "import numpy as np\n",
    "import sounddevice as sd\n",
    "\n",
    "frequency = 440\t\t# Frequency in Hz (e.g., 440 Hz for A4 note)\n",
    "duration = .5\t\t# Duration in seconds\n",
    "samplerate = 44100\t# Samples per second (44100 is standard audio CD quality)\n",
    "amplitude = .1\t\t# 1 for simplicity\n",
    "\n",
    "# Generate the wave: A * sin(2 * pi * f * toner)\n",
    "print(f\"Playing {frequency} Hz tone for {duration} second(s)...\")\n",
    "toner = np.linspace(0, duration, int(samplerate * duration), False)\n",
    "for freq in range(0, frequency, 20):\n",
    "\ttone = amplitude * np.sin(2 * np.pi * freq * toner)\n",
    "\tsd.play(tone, samplerate)\n",
    "\tprint(tone)\n",
    "\tsd.wait()\n",
    "\n",
    "print('DONE')"
   ],
   "id": "ee2221e55f48f18e",
   "outputs": [
    {
     "name": "stdout",
     "output_type": "stream",
     "text": [
      "Playing 440 Hz tone for 0.5 second(s)...\n",
      "[0. 0. 0. ... 0. 0. 0.]\n",
      "[ 0.          0.00028495  0.0005699  ... -0.00085484 -0.0005699\n",
      " -0.00028495]\n",
      "[ 0.          0.0005699   0.00113978 ... -0.00170963 -0.00113978\n",
      " -0.0005699 ]\n",
      "[ 0.          0.00085484  0.00170963 ... -0.00256428 -0.00170963\n",
      " -0.00085484]\n",
      "[ 0.          0.00113978  0.00227942 ... -0.00341875 -0.00227942\n",
      " -0.00113978]\n",
      "[ 0.          0.00142471  0.00284913 ... -0.00427297 -0.00284913\n",
      " -0.00142471]\n",
      "[ 0.          0.00170963  0.00341875 ... -0.00512688 -0.00341875\n",
      " -0.00170963]\n",
      "[ 0.          0.00199453  0.00398827 ... -0.00598042 -0.00398827\n",
      " -0.00199453]\n",
      "[ 0.          0.00227942  0.00455765 ... -0.00683351 -0.00455765\n",
      " -0.00227942]\n",
      "[ 0.          0.00256428  0.00512688 ... -0.00768611 -0.00512688\n",
      " -0.00256428]\n",
      "[ 0.          0.00284913  0.00569595 ... -0.00853814 -0.00569595\n",
      " -0.00284913]\n",
      "[ 0.          0.00313396  0.00626483 ... -0.00938955 -0.00626483\n",
      " -0.00313396]\n",
      "[ 0.          0.00341875  0.00683351 ... -0.01024028 -0.00683351\n",
      " -0.00341875]\n",
      "[ 0.          0.00370353  0.00740197 ... -0.01109026 -0.00740197\n",
      " -0.00370353]\n",
      "[ 0.          0.00398827  0.00797019 ... -0.01193942 -0.00797019\n",
      " -0.00398827]\n",
      "[ 0.          0.00427297  0.00853814 ... -0.01278772 -0.00853814\n",
      " -0.00427297]\n",
      "[ 0.          0.00455765  0.00910582 ... -0.01363508 -0.00910582\n",
      " -0.00455765]\n",
      "[ 0.          0.00484228  0.00967321 ... -0.01448144 -0.00967321\n",
      " -0.00484228]\n",
      "[ 0.          0.00512688  0.01024028 ... -0.01532674 -0.01024028\n",
      " -0.00512688]\n",
      "[ 0.          0.00541144  0.01080702 ... -0.01617093 -0.01080702\n",
      " -0.00541144]\n",
      "[ 0.          0.00569595  0.0113734  ... -0.01701393 -0.0113734\n",
      " -0.00569595]\n",
      "[ 0.          0.00598042  0.01193942 ... -0.01785569 -0.01193942\n",
      " -0.00598042]\n",
      "DONE\n"
     ]
    }
   ],
   "execution_count": 32
  },
  {
   "metadata": {},
   "cell_type": "markdown",
   "source": "# PYTEST",
   "id": "916d693657411397"
  },
  {
   "metadata": {},
   "cell_type": "code",
   "source": [
    "import test_samples\n",
    "\n",
    "test_samples.test_equation0()\n",
    "\n",
    "def test_add():\n",
    "\tassert test_samples.add(2, 3) == 5\n",
    "\tassert test_samples.add(-1, 1) == 0\n",
    "\tassert test_samples.add(0, 0) == 0\n",
    "\treturn 'COMPLETE!'\n",
    "\n",
    "print( test_add() )\n"
   ],
   "id": "d748fc20398e0149",
   "outputs": [],
   "execution_count": null
  },
  {
   "metadata": {},
   "cell_type": "markdown",
   "source": "# DECORATORS",
   "id": "dbd4417af7983ba8"
  },
  {
   "metadata": {},
   "cell_type": "code",
   "source": [
    "import time, atexit, os, sys\n",
    "from functools import cache\n",
    "\n",
    "@cache\n",
    "def countVowels(text: str) -> int:\n",
    "\n",
    "\tvowelCount: int = 0\n",
    "\tprint(f'Bot: Counting vowels in \"{text}\"...')\n",
    "\ttime.sleep(1)\n",
    "\n",
    "\tfor letter in text:\n",
    "\t\tif letter in 'aeiouAEIOU':\n",
    "\t\t\tvowelCount += 1\n",
    "\treturn vowelCount\n",
    "\n",
    "def mainCheck() -> None:\n",
    "\tprint(countVowels('Bob'))\n",
    "\tprint(countVowels('Bob'))\n",
    "\tprint(countVowels('Bob'))\n",
    "\tprint(countVowels('George'))\n",
    "\tprint(countVowels.cache_info())\n",
    "\tcountVowels.cache_clear()\n",
    "\tprint(countVowels.cache_info())\n",
    "\n",
    "print()\n",
    "\n",
    "@atexit.register # not in notebooks?\n",
    "def exiting() -> None:\n",
    "\tprint('DONE!')\n",
    "\n",
    "def main() -> None:\n",
    "\tfor i in range(10): print(i, end=' ')\n",
    "\n",
    "if __name__ == '__main__':\n",
    "\t#mainCheck()\n",
    "\tmain()\n",
    "\t#sys.exit()\n"
   ],
   "id": "cb84df6c0adf8f48",
   "outputs": [],
   "execution_count": null
  }
 ],
 "metadata": {
  "kernelspec": {
   "display_name": "Python 3",
   "language": "python",
   "name": "python3"
  },
  "language_info": {
   "codemirror_mode": {
    "name": "ipython",
    "version": 2
   },
   "file_extension": ".py",
   "mimetype": "text/x-python",
   "name": "python",
   "nbconvert_exporter": "python",
   "pygments_lexer": "ipython2",
   "version": "2.7.6"
  }
 },
 "nbformat": 4,
 "nbformat_minor": 5
}
