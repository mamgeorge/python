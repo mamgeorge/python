{
 "cells": [
  {
   "metadata": {},
   "cell_type": "markdown",
   "source": "#  OpenAI Agentics",
   "id": "d929f79eb5dcccb"
  },
  {
   "metadata": {
    "ExecuteTime": {
     "end_time": "2025-10-01T15:39:05.707104Z",
     "start_time": "2025-10-01T15:39:05.702096Z"
    }
   },
   "cell_type": "code",
   "source": [
    "# pip install openai\n",
    "# pip install open-agents\n",
    "\n",
    "print('Hello, World!')"
   ],
   "id": "bd983331d4d5ae5d",
   "outputs": [
    {
     "name": "stdout",
     "output_type": "stream",
     "text": [
      "Hello, World!\n"
     ]
    }
   ],
   "execution_count": 1
  }
 ],
 "metadata": {
  "kernelspec": {
   "display_name": "Python 3",
   "language": "python",
   "name": "python3"
  },
  "language_info": {
   "codemirror_mode": {
    "name": "ipython",
    "version": 2
   },
   "file_extension": ".py",
   "mimetype": "text/x-python",
   "name": "python",
   "nbconvert_exporter": "python",
   "pygments_lexer": "ipython2",
   "version": "2.7.6"
  }
 },
 "nbformat": 4,
 "nbformat_minor": 5
}
