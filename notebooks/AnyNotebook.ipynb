{
 "cells": [
  {
   "metadata": {},
   "cell_type": "markdown",
   "source": [
    "# Jupyter Notebook sample\n",
    "\n",
    "System variables > CURL_CA_BUNDLE might be pointing to the PostgreSQL certificate bundle. Remove or rename this to allow PyCharm to work.\n",
    "\n",
    "Jupyter Notebooks in PyCharm, see: [help](https://www.jetbrains.com/help/pycharm/ipython-notebook-support.html).\n",
    "PyCharm overview: goto Help > Learn IDE features, or goto [our documentation](https://www.jetbrains.com/help/pycharm/getting-started.html)."
   ],
   "id": "8a77807f92f26ee"
  },
  {
   "metadata": {},
   "cell_type": "markdown",
   "source": "# LOOPS",
   "id": "e4ea86c993ff65f"
  },
  {
   "metadata": {},
   "cell_type": "code",
   "source": [
    "print(\"Hello World!\")\n",
    "greeting = 'Hello, World!';\n",
    "print(greeting)\n",
    "# user = input('Name?'); print(f'Name: {user}')\n",
    "val = True  # boolean True = 1\n",
    "print(1 + val + .1_0000_0001 + 3e4 + 3e-4)\n",
    "print(0o777, 0xBABE, 'MLG ' * 5)\n",
    "\n",
    "# loops\n",
    "names = ['Martin', 'Mary', 'Samuel', 'Kenzie']\n",
    "print(list(enumerate(names)))\n",
    "print(f'Hello, {names[0]}.' * 5)\n",
    "ictr = 0;\n",
    "for name in names:\n",
    "\tictr = ictr + 1;\n",
    "\tprint(f'{ictr} Hi {name}.', end=\"\")\n",
    "\tif ictr < 4:\n",
    "\t\tprint(type(ictr))\n",
    "\telif ictr == 4:\n",
    "\t\tprint(type(ictr))\n",
    "\telse:\n",
    "\t\tprint(type(ictr))\n"
   ],
   "id": "fbc121e30a2defb3",
   "outputs": [],
   "execution_count": null
  },
  {
   "metadata": {},
   "cell_type": "markdown",
   "source": "# SYSTEM",
   "id": "c865fd85cbd7ac18"
  },
  {
   "metadata": {},
   "cell_type": "code",
   "source": [
    "import os\n",
    "import random\n",
    "import sys\n",
    "from datetime import datetime\n",
    "\n",
    "# for name, value in os.environ.items(): print(f\"{name}: {value}\", end=\"\")\n",
    "print(f'sys.version: {sys.version},  sys.getdefaultencoding: {sys.getdefaultencoding()}')\n",
    "homeDir = os.environ['USERNAME'];\n",
    "print(f'os: homeDir: {homeDir}')\n",
    "print(f'os: cwd: {os.getcwd()}, pid: {os.getpid()}')\n",
    "print(f'random: {random.randint(1, 10)}')\n",
    "\n",
    "# datetime\n",
    "dateNow = datetime.now();\n",
    "dateIso = dateNow.isoformat()\n",
    "print(f'dateNow: {dateNow}, dateIso: {dateIso}')\n"
   ],
   "id": "f69da204b7ef08b4",
   "outputs": [],
   "execution_count": null
  },
  {
   "metadata": {},
   "cell_type": "markdown",
   "source": "# REQUESTS, GET",
   "id": "2993fb7c2de2ee91"
  },
  {
   "metadata": {},
   "cell_type": "code",
   "source": [
    "import requests\n",
    "\n",
    "url = \"https://jsonplaceholder.typicode.com/posts/1\"\n",
    "response = requests.get(url)\n",
    "if response.status_code == 200:\n",
    "\tprint(\"Request successful!\")\n",
    "\tprint(response.json())\n",
    "else:\n",
    "\tprint(f\"Request failed with status code: {response.status_code}\")\n"
   ],
   "id": "760aeea3ee90f721",
   "outputs": [],
   "execution_count": null
  },
  {
   "metadata": {},
   "cell_type": "markdown",
   "source": "# REQUESTS: POST",
   "id": "7e96d621aa065533"
  },
  {
   "metadata": {},
   "cell_type": "code",
   "source": [
    "url = \"https://jsonplaceholder.typicode.com/posts\"\n",
    "payload = {\"title\": \"foo\", \"body\": \"bar\", \"userId\": 1}\n",
    "response = requests.post(url, json=payload)\n",
    "if response.status_code == 201:\n",
    "\tprint(\"Resource created successfully!\")\n",
    "\tprint(response.json())\n",
    "else:\n",
    "\tprint(f\"Request failed with status code: {response.status_code}\")\n"
   ],
   "id": "7323186a8ac3cff9",
   "outputs": [],
   "execution_count": null
  },
  {
   "metadata": {},
   "cell_type": "markdown",
   "source": "# JSON",
   "id": "aa93373b5d09441f"
  },
  {
   "metadata": {},
   "cell_type": "code",
   "source": [
    "'''\n",
    "run in python terminal:\n",
    "pip install jsonpath-ng\n",
    "pip install jsonpath-rw-ext\n",
    "'''"
   ],
   "id": "e76d685a01d8e211",
   "outputs": [],
   "execution_count": null
  },
  {
   "metadata": {},
   "cell_type": "code",
   "source": [
    "from jsonpath_ng import parse\n",
    "\n",
    "json_load = {\"title\": \"foo\", \"body\": \"MLG Python\", \"userId\": 343}\n",
    "json_data = {\n",
    "\t\"store\": {\n",
    "\t\t\"book\": [\n",
    "\t\t\t{\"category\": \"reference\", \"author\": \"Nigel Rees\", \"title\": \"Sayings of the Century\",\n",
    "\t\t\t \"price\": 8.95},\n",
    "\t\t\t{\"category\": \"fiction\", \"author\": \"Evelyn Waugh\", \"title\": \"Sword of Honour\", \"price\": 12.99},\n",
    "\t\t\t{\"category\": \"fiction\", \"author\": \"Herman Melville\", \"title\": \"Moby Dick\", \"isbn\": \"111\",\n",
    "\t\t\t \"price\": 8.99},\n",
    "\t\t\t{\"category\": \"fiction\", \"author\": \"J.R.R. Tolkien\", \"title\": \"Lord of Rings\", \"isbn\": \"222\",\n",
    "\t\t\t \"price\": 22.99}\n",
    "\t\t],\n",
    "\t\t\"bicycle\": {\n",
    "\t\t\t\"color\": \"red\",\n",
    "\t\t\t\"price\": 19.95\n",
    "\t\t}\n",
    "\t}\n",
    "}\n",
    "\n",
    "json_load = {\"title\": \"foo\", \"body\": \"bar\", \"userId\": 1}\n",
    "json_path = parse('$.body')\n",
    "match_body = json_path.find(json_load)\n",
    "print(f'body reads: {match_body[0].value}')\n",
    "\n",
    "# json_authors = parse('$.store.book[?(@.price > 10)].author')\n",
    "json_authors = parse('$.store.book[*].author')\n",
    "json_booklist = [match.value for match in json_authors.find(json_data)]\n",
    "print(f'Authors: {json_booklist}')\n"
   ],
   "id": "8fc6eb4eb44005f0",
   "outputs": [],
   "execution_count": null
  },
  {
   "metadata": {},
   "cell_type": "markdown",
   "source": "# DBs: SQLITE",
   "id": "f7b6f36626b9c5a2"
  },
  {
   "metadata": {},
   "cell_type": "code",
   "source": [
    "import sqlite3\n",
    "\n",
    "# connect to DB Using a 'with' statement so conn is closed\n",
    "dbFile = 'C:/workspace/dbase/sqlite/chinook.db'\n",
    "SQL_LIST = 'SELECT * FROM customers WHERE company != \\'\\' ORDER BY customerId ASC;'\n",
    "try:\n",
    "\twith sqlite3.connect(dbFile) as connection:\n",
    "\n",
    "\t\tprint(f'{connection.__class__.__name__ = }')\n",
    "\t\tcursor = connection.cursor()\n",
    "\t\tcursor.execute(SQL_LIST)\n",
    "\t\trows = cursor.fetchall()\n",
    "\n",
    "except sqlite3.Error as ex:\n",
    "\tprint(f\"An SQLite error occurred: {ex}\")\n",
    "except Exception as ex:\n",
    "\tprint(f\"An unexpected error occurred: {ex}\")\n",
    "\n",
    "finally:\n",
    "\tcursor.close()\n",
    "\tconnection.close()\n",
    "\n",
    "ictr = 0\n",
    "for row in rows:\n",
    "\tictr += 1\n",
    "\tprint(f'{ictr:02d} {(row[1] + ' ' + row[2]):<25} {('| ' + row[7])}')\n"
   ],
   "id": "6a035e9d1e61774",
   "outputs": [],
   "execution_count": null
  },
  {
   "metadata": {},
   "cell_type": "markdown",
   "source": "# DBs: MySQL",
   "id": "258135de177f23a4"
  },
  {
   "metadata": {},
   "cell_type": "code",
   "source": "# pip install mysql-connector-python",
   "id": "e5b7db85ff08160f",
   "outputs": [],
   "execution_count": null
  },
  {
   "metadata": {},
   "cell_type": "code",
   "source": [
    "import os, mysql.connector\n",
    "\n",
    "hostname = \"localhost\"\n",
    "port = 3306\n",
    "username = os.environ.get(\"MYSQL_USER\")\n",
    "password = os.environ.get(\"MYSQL_PASS\")\n",
    "dataname = \"mydb\"  # Optional: specify a database to connect to directly\n",
    "SQL_VALS = 'SELECT * FROM mydb.history;'\n",
    "\n",
    "try:\n",
    "\tprint(f'username: {username}, password: {password}')\n",
    "\tconnection = mysql.connector.connect(\n",
    "\t\thost=hostname, user=username, password=password, database=dataname\n",
    "\t)\n",
    "\tprint(f'{connection.connection_id = }')\n",
    "\tcursor = connection.cursor()\n",
    "\tcursor.execute(SQL_VALS)\n",
    "\trows = cursor.fetchall()\n",
    "\tfor row in rows: print(f'{row[1]} {row[2]} {row[3]:<25} {row[5]}')\n",
    "\n",
    "except mysql.connector.Error as ex:\n",
    "\tprint(f\"ERROR MySQL: {ex}\")\n",
    "\n",
    "finally:\n",
    "\tcursor.close()\n",
    "\tconnection.close()\n"
   ],
   "id": "ebe9b48798910156",
   "outputs": [],
   "execution_count": null
  },
  {
   "metadata": {},
   "cell_type": "markdown",
   "source": "# DBs: PostGreSQL",
   "id": "8efda39cc7c1bee5"
  },
  {
   "metadata": {},
   "cell_type": "code",
   "source": [
    "'''\n",
    "pip install psycopg2-binary\n",
    "'''"
   ],
   "id": "a1df71a7954e8027",
   "outputs": [],
   "execution_count": null
  },
  {
   "metadata": {},
   "cell_type": "code",
   "source": [
    "import os, psycopg2\n",
    "\n",
    "hostname = \"localhost\"\n",
    "port = 5432\n",
    "username = os.environ.get(\"POSTGRES_USER\")\n",
    "password = os.environ.get(\"POSTGRES_PASS\")\n",
    "dataname = \"dvdrental\"  # Optional: specify a database to connect to directly\n",
    "SQL_VALS = 'SELECT * FROM actor LIMIT 10;'\n",
    "\n",
    "try:\n",
    "\tprint(f'username: {username}, password: {password}')\n",
    "\tparams = {\n",
    "\t\t\"host\": hostname,\n",
    "\t\t\"port\": port,\n",
    "\t\t\"user\": username,\n",
    "\t\t\"password\": password,\n",
    "\t\t\"dbname\": dataname\n",
    "\t}\n",
    "\n",
    "\tconnection = psycopg2.connect(**params)\n",
    "\tcursor = connection.cursor()\n",
    "\tcursor.execute(SQL_VALS)\n",
    "\n",
    "\trows = cursor.fetchall()\n",
    "\tfor row in rows: print(f'{row[0]:02d} {row[1]:<10} {row[2]:<15} {row[3]}')\n",
    "\n",
    "\tcursor.close()\n",
    "\n",
    "except (Exception, psycopg2.Error) as ex:\n",
    "\tprint(f'ERROR PostgreSQL: {ex}')\n",
    "\n",
    "finally:\n",
    "\tif connection:\n",
    "\t\tconnection.close()\n",
    "\t\tprint('Database connection closed.')"
   ],
   "id": "6dabef88cb16711f",
   "outputs": [],
   "execution_count": null
  },
  {
   "metadata": {},
   "cell_type": "markdown",
   "source": "# DBs: Oracle",
   "id": "14bae23c183467b4"
  },
  {
   "metadata": {},
   "cell_type": "code",
   "source": [
    "'''\n",
    "run in python terminal:\n",
    "pip install oracledb\n",
    "invalid username/password\n",
    "select sys_context('userenv','service_name') from dual; -- SYS$USERS\n",
    "'''"
   ],
   "id": "6d43f2361c24ce5e",
   "outputs": [],
   "execution_count": null
  },
  {
   "metadata": {
    "ExecuteTime": {
     "end_time": "2025-09-23T20:31:37.310524Z",
     "start_time": "2025-09-23T20:31:36.159848Z"
    }
   },
   "cell_type": "code",
   "source": [
    "import os, oracledb\n",
    "\n",
    "hostname = \"localhost\"\n",
    "port = 1521\n",
    "username = os.environ.get(\"ORACLE_USER\")  #[0:3] #+ ' as sysoper'\n",
    "password = os.environ.get(\"ORACLE_PASS\")\n",
    "sid = 'XE'  #'SYS$USERS' # aka sid or System Identifier\n",
    "dsnval = f'{hostname}:{port}/{sid}'\n",
    "dsnstr = oracledb.makedsn(hostname, port, sid)\n",
    "dsntmp = f'{username}/{password}@{hostname}:{port}/{sid}'\n",
    "SQL_VALS = 'SELECT * FROM employees;'\n",
    "\n",
    "try:\n",
    "\t# Connect using username, password, and a connection string (DSN)\n",
    "\t# The DSN can be in Easy Connect syntax: 'hostname:port/service_name'\n",
    "\tprint(f'username: {username}, password: {password}, dsnstr: {dsnstr}')\n",
    "\tconnection = oracledb.connect(\n",
    "\t\tuser=username,\n",
    "\t\tpassword=password,\n",
    "\t\tdsn=dsnval,\n",
    "\t\tconfig_dir='C:/workspace/dbase/oracle'\n",
    "\t)\n",
    "\tcursor = connection.cursor()\n",
    "\tcursor.execute(SQL_VALS)\n",
    "\trows = cursor.fetchall()\n",
    "\tfor row in rows:\n",
    "\t\tfor row in rows: print(f'{row[0]} {row[1]} {row[2]:<15} {row[5]}')\n",
    "\n",
    "except oracledb.Error as ex:\n",
    "\tprint(f\"Error connecting to Oracle database: {ex}\")\n",
    "\n",
    "finally:\n",
    "\tif 'connection' in locals() and connection:\n",
    "\t\tconnection.close()"
   ],
   "id": "ca22168b8f6ba4ff",
   "outputs": [
    {
     "name": "stdout",
     "output_type": "stream",
     "text": [
      "username: sys as sysdba, password: bu3gu3, dsnstr: (DESCRIPTION=(ADDRESS=(PROTOCOL=TCP)(HOST=localhost)(PORT=1521))(CONNECT_DATA=(SID=XE)))\n",
      "Error connecting to Oracle database: ORA-01017: invalid username/password; logon denied\n",
      "Help: https://docs.oracle.com/error-help/db/ora-01017/\n"
     ]
    }
   ],
   "execution_count": 3
  },
  {
   "metadata": {},
   "cell_type": "markdown",
   "source": "# DBs: AWS",
   "id": "955acdc0f1e2d980"
  },
  {
   "metadata": {},
   "cell_type": "code",
   "source": "# pip install boto3",
   "id": "bd02e3a8412af801",
   "outputs": [],
   "execution_count": null
  },
  {
   "metadata": {
    "ExecuteTime": {
     "end_time": "2025-09-23T21:20:07.499733Z",
     "start_time": "2025-09-23T21:20:05.688440Z"
    }
   },
   "cell_type": "code",
   "source": [
    "import boto3\n",
    "\n",
    "s3_client = boto3.client('s3')\n",
    "\n",
    "bucketval = 'mlg-s3-sample'\n",
    "try:\n",
    "\tresponseList = s3_client.list_buckets()\n",
    "\tfor bucket in responseList['Buckets']: print(f'{bucket['Name']} ', end = '')\n",
    "\tprint()\n",
    "\n",
    "\tresponseItems = s3_client.list_objects_v2(Bucket=bucketval)\n",
    "\tprint ( responseItems )\n",
    "\tprint ( responseItems['Name'] )\n",
    "\tfor obj in responseItems['Contents']: print(f'• {obj['Key']}')\n",
    "\n",
    "except Exception as ex: print(f'ERROR AWS: {ex}')\n",
    "#except ExpectedBucketOwner as ex: print(f'ERROR AWS: {ex}')\n",
    "\n"
   ],
   "id": "7b429a111173d3e0",
   "outputs": [
    {
     "name": "stdout",
     "output_type": "stream",
     "text": [
      "mlg-s3-events mlg-s3-sample \n",
      "{'ResponseMetadata': {'RequestId': 'WYBEMRN19HHYM6T0', 'HostId': 'rsd8rX2KpiEe54nXe89tyZBe3pk0VIyPsTBnBYynnLvzlMCs+KAer4NP+ASt/Ht9Nbasil3609c=', 'HTTPStatusCode': 200, 'HTTPHeaders': {'x-amz-id-2': 'rsd8rX2KpiEe54nXe89tyZBe3pk0VIyPsTBnBYynnLvzlMCs+KAer4NP+ASt/Ht9Nbasil3609c=', 'x-amz-request-id': 'WYBEMRN19HHYM6T0', 'date': 'Tue, 23 Sep 2025 21:20:07 GMT', 'x-amz-bucket-region': 'us-east-2', 'content-type': 'application/xml', 'transfer-encoding': 'chunked', 'server': 'AmazonS3'}, 'RetryAttempts': 1}, 'IsTruncated': False, 'Contents': [{'Key': 'images/', 'LastModified': datetime.datetime(2025, 4, 26, 23, 33, 26, tzinfo=tzutc()), 'ETag': '\"d41d8cd98f00b204e9800998ecf8427e\"', 'ChecksumAlgorithm': ['CRC64NVME'], 'ChecksumType': 'FULL_OBJECT', 'Size': 0, 'StorageClass': 'STANDARD'}, {'Key': 'images/01_Gen0617_Flood3_DelugeTablet_Utnapishtim_t.jpg', 'LastModified': datetime.datetime(2025, 4, 26, 23, 37, 45, tzinfo=tzutc()), 'ETag': '\"a9a04315cddcc0d29a14b9ad51027bd3\"', 'ChecksumAlgorithm': ['CRC64NVME'], 'ChecksumType': 'FULL_OBJECT', 'Size': 3475, 'StorageClass': 'STANDARD'}, {'Key': 'images/12_2Kin1935_Herodotus_Histories_t.jpg', 'LastModified': datetime.datetime(2025, 4, 26, 23, 37, 45, tzinfo=tzutc()), 'ETag': '\"d0f671e3d28d583dd87c5eaa78956095\"', 'ChecksumAlgorithm': ['CRC64NVME'], 'ChecksumType': 'FULL_OBJECT', 'Size': 3047, 'StorageClass': 'STANDARD'}, {'Key': 'images/40_Matt2806_Testimonium_Greek_t.jpg', 'LastModified': datetime.datetime(2025, 4, 26, 23, 37, 45, tzinfo=tzutc()), 'ETag': '\"70e925128a1fc4b2018e06573c5c3922\"', 'ChecksumAlgorithm': ['CRC64NVME'], 'ChecksumType': 'FULL_OBJECT', 'Size': 2259, 'StorageClass': 'STANDARD'}, {'Key': 'images/coffee.jpg', 'LastModified': datetime.datetime(2025, 4, 26, 23, 37, 45, tzinfo=tzutc()), 'ETag': '\"b3b29d095d73d905171d1f5498e1e578\"', 'ChecksumAlgorithm': ['CRC64NVME'], 'ChecksumType': 'FULL_OBJECT', 'Size': 110985, 'StorageClass': 'STANDARD'}, {'Key': 'index.html', 'LastModified': datetime.datetime(2025, 4, 28, 14, 38, 22, tzinfo=tzutc()), 'ETag': '\"0616a366502b72d4782f0213830757db\"', 'ChecksumAlgorithm': ['CRC64NVME'], 'ChecksumType': 'FULL_OBJECT', 'Size': 729, 'StorageClass': 'STANDARD'}], 'Name': 'mlg-s3-sample', 'Prefix': '', 'MaxKeys': 1000, 'EncodingType': 'url', 'KeyCount': 6}\n",
      "mlg-s3-sample\n",
      "• images/\n",
      "• images/01_Gen0617_Flood3_DelugeTablet_Utnapishtim_t.jpg\n",
      "• images/12_2Kin1935_Herodotus_Histories_t.jpg\n",
      "• images/40_Matt2806_Testimonium_Greek_t.jpg\n",
      "• images/coffee.jpg\n",
      "• index.html\n"
     ]
    }
   ],
   "execution_count": 1
  }
 ],
 "metadata": {
  "kernelspec": {
   "display_name": "Python 3",
   "language": "python",
   "name": "python3"
  },
  "language_info": {
   "codemirror_mode": {
    "name": "ipython",
    "version": 2
   },
   "file_extension": ".py",
   "mimetype": "text/x-python",
   "name": "python",
   "nbconvert_exporter": "python",
   "pygments_lexer": "ipython2",
   "version": "2.7.6"
  }
 },
 "nbformat": 4,
 "nbformat_minor": 5
}
