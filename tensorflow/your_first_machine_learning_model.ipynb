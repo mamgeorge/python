## C:/workspace/training/ml/your_first_machine_learning_model.ipynb

{
  "nbformat": 4,
  "nbformat_minor": 0,
  "metadata": {
    "colab": {
      "provenance": [],
      "gpuType": "V28",
      "toc_visible": true
    },
    "kernelspec": {
      "name": "python3",
      "display_name": "Python 3"
    },
    "language_info": {
      "name": "python"
    },
    "accelerator": "TPU"
  },
  "cells": [
    {
      "cell_type": "markdown",
      "source": [
        "# Course Overview\n",
        "\n",
        "## Acquire the data\n",
        "* Kaggle\n",
        "* https://www.kaggle.com/datasets/viveksharmar/flight-price-data/data\n",
        "\n",
        "## Inspect the data\n",
        "* Pick out random samples\n",
        "\n",
        "## Create train and test splits\n",
        "* Split our data into a dataset for testing and a dataset for evaluation\n",
        "\n",
        "## Preprocess the data\n",
        "* Normalise it so that it the model can handle it\n",
        "\n",
        "## Build the model\n",
        "* Decide on the model architecture\n",
        "\n",
        "## Compile the model\n",
        "* Decide on the optimizer and loss functions\n",
        "\n",
        "## Fit the model\n",
        "* Train the model on the data\n",
        "\n",
        "## Evaluate the model\n",
        "* Test if the data works well on data that it has never seen before\n",
        "\n",
        "## Use the model elsewhere\n",
        "* Make predictions with the model on real world problems"
      ],
      "metadata": {
        "id": "aFnLRnymhF8v"
      }
    },
    {
      "cell_type": "markdown",
      "source": [
        "# Aquiring the data"
      ],
      "metadata": {
        "id": "pLhaRLiq6Nge"
      }
    },
    {
      "cell_type": "code",
      "source": [
        "!kaggle datasets download -d viveksharmar/flight-price-data"
      ],
      "metadata": {
        "colab": {
          "base_uri": "https://localhost:8080/"
        },
        "id": "E31ZYy_SR5Iu",
        "outputId": "f0584c51-1a45-43d2-a042-05cbfb2d59f8"
      },
      "execution_count": null,
      "outputs": [
        {
          "output_type": "stream",
          "name": "stdout",
          "text": [
            "Dataset URL: https://www.kaggle.com/datasets/viveksharmar/flight-price-data\n",
            "License(s): MIT\n",
            "Downloading flight-price-data.zip to /content\n",
            "  0% 0.00/115k [00:00<?, ?B/s]\n",
            "100% 115k/115k [00:00<00:00, 72.2MB/s]\n"
          ]
        }
      ]
    },
    {
      "cell_type": "code",
      "source": [
        "import zipfile as zf\n",
        "zf = zf.ZipFile('flight-price-data.zip')\n",
        "zf.extractall()"
      ],
      "metadata": {
        "id": "_aRS6oNpR51g"
      },
      "execution_count": null,
      "outputs": []
    },
    {
      "cell_type": "code",
      "source": [
        "import csv\n",
        "csv_file = open('flight_dataset.csv')\n",
        "csv_reader = csv.DictReader(csv_file)\n",
        "csv_reader.fieldnames"
      ],
      "metadata": {
        "colab": {
          "base_uri": "https://localhost:8080/"
        },
        "id": "FY_0f9mhSGqH",
        "outputId": "7e54fd61-4fb0-4cc8-be70-1440a43cda41"
      },
      "execution_count": null,
      "outputs": [
        {
          "output_type": "execute_result",
          "data": {
            "text/plain": [
              "['Airline',\n",
              " 'Source',\n",
              " 'Destination',\n",
              " 'Total_Stops',\n",
              " 'Price',\n",
              " 'Date',\n",
              " 'Month',\n",
              " 'Year',\n",
              " 'Dep_hours',\n",
              " 'Dep_min',\n",
              " 'Arrival_hours',\n",
              " 'Arrival_min',\n",
              " 'Duration_hours',\n",
              " 'Duration_min']"
            ]
          },
          "metadata": {},
          "execution_count": 3
        }
      ]
    },
    {
      "cell_type": "code",
      "source": [
        "flight_data = []\n",
        "for row in csv_reader:\n",
        "  flight_data.append(row)"
      ],
      "metadata": {
        "id": "RlIwBTl9SXu_"
      },
      "execution_count": null,
      "outputs": []
    },
    {
      "cell_type": "code",
      "source": [
        "flight_data[:5]"
      ],
      "metadata": {
        "colab": {
          "base_uri": "https://localhost:8080/"
        },
        "id": "vk31H9CQS0tW",
        "outputId": "9540edfd-4c6d-4ba2-ec76-73a846ce250e"
      },
      "execution_count": null,
      "outputs": [
        {
          "output_type": "execute_result",
          "data": {
            "text/plain": [
              "[{'Airline': 'IndiGo',\n",
              "  'Source': 'Banglore',\n",
              "  'Destination': 'New Delhi',\n",
              "  'Total_Stops': '0',\n",
              "  'Price': '3897',\n",
              "  'Date': '24',\n",
              "  'Month': '3',\n",
              "  'Year': '2019',\n",
              "  'Dep_hours': '22',\n",
              "  'Dep_min': '20',\n",
              "  'Arrival_hours': '1',\n",
              "  'Arrival_min': '10',\n",
              "  'Duration_hours': '2',\n",
              "  'Duration_min': '50'},\n",
              " {'Airline': 'Air India',\n",
              "  'Source': 'Kolkata',\n",
              "  'Destination': 'Banglore',\n",
              "  'Total_Stops': '2',\n",
              "  'Price': '7662',\n",
              "  'Date': '1',\n",
              "  'Month': '5',\n",
              "  'Year': '2019',\n",
              "  'Dep_hours': '5',\n",
              "  'Dep_min': '50',\n",
              "  'Arrival_hours': '13',\n",
              "  'Arrival_min': '15',\n",
              "  'Duration_hours': '7',\n",
              "  'Duration_min': '25'},\n",
              " {'Airline': 'Jet Airways',\n",
              "  'Source': 'Delhi',\n",
              "  'Destination': 'Cochin',\n",
              "  'Total_Stops': '2',\n",
              "  'Price': '13882',\n",
              "  'Date': '9',\n",
              "  'Month': '6',\n",
              "  'Year': '2019',\n",
              "  'Dep_hours': '9',\n",
              "  'Dep_min': '25',\n",
              "  'Arrival_hours': '4',\n",
              "  'Arrival_min': '25',\n",
              "  'Duration_hours': '19',\n",
              "  'Duration_min': '0'},\n",
              " {'Airline': 'IndiGo',\n",
              "  'Source': 'Kolkata',\n",
              "  'Destination': 'Banglore',\n",
              "  'Total_Stops': '1',\n",
              "  'Price': '6218',\n",
              "  'Date': '12',\n",
              "  'Month': '5',\n",
              "  'Year': '2019',\n",
              "  'Dep_hours': '18',\n",
              "  'Dep_min': '5',\n",
              "  'Arrival_hours': '23',\n",
              "  'Arrival_min': '30',\n",
              "  'Duration_hours': '5',\n",
              "  'Duration_min': '25'},\n",
              " {'Airline': 'IndiGo',\n",
              "  'Source': 'Banglore',\n",
              "  'Destination': 'New Delhi',\n",
              "  'Total_Stops': '1',\n",
              "  'Price': '13302',\n",
              "  'Date': '1',\n",
              "  'Month': '3',\n",
              "  'Year': '2019',\n",
              "  'Dep_hours': '16',\n",
              "  'Dep_min': '50',\n",
              "  'Arrival_hours': '21',\n",
              "  'Arrival_min': '35',\n",
              "  'Duration_hours': '4',\n",
              "  'Duration_min': '45'}]"
            ]
          },
          "metadata": {},
          "execution_count": 5
        }
      ]
    },
    {
      "cell_type": "code",
      "source": [
        "import pandas as pd\n",
        "df = pd.DataFrame(flight_data)\n",
        "df.head()"
      ],
      "metadata": {
        "colab": {
          "base_uri": "https://localhost:8080/",
          "height": 243
        },
        "id": "UtaG18gpTNTp",
        "outputId": "f13a17de-baa9-49a4-c0ef-5180511a5a9c"
      },
      "execution_count": null,
      "outputs": [
        {
          "output_type": "execute_result",
          "data": {
            "text/plain": [
              "       Airline    Source Destination Total_Stops  Price Date Month  Year  \\\n",
              "0       IndiGo  Banglore   New Delhi           0   3897   24     3  2019   \n",
              "1    Air India   Kolkata    Banglore           2   7662    1     5  2019   \n",
              "2  Jet Airways     Delhi      Cochin           2  13882    9     6  2019   \n",
              "3       IndiGo   Kolkata    Banglore           1   6218   12     5  2019   \n",
              "4       IndiGo  Banglore   New Delhi           1  13302    1     3  2019   \n",
              "\n",
              "  Dep_hours Dep_min Arrival_hours Arrival_min Duration_hours Duration_min  \n",
              "0        22      20             1          10              2           50  \n",
              "1         5      50            13          15              7           25  \n",
              "2         9      25             4          25             19            0  \n",
              "3        18       5            23          30              5           25  \n",
              "4        16      50            21          35              4           45  "
            ],
            "text/html": [
              "\n",
              "  <div id=\"df-7cda01d1-fd8c-4f34-9a27-9024ed47249d\" class=\"colab-df-container\">\n",
              "    <div>\n",
              "<style scoped>\n",
              "    .dataframe tbody tr th:only-of-type {\n",
              "        vertical-align: middle;\n",
              "    }\n",
              "\n",
              "    .dataframe tbody tr th {\n",
              "        vertical-align: top;\n",
              "    }\n",
              "\n",
              "    .dataframe thead th {\n",
              "        text-align: right;\n",
              "    }\n",
              "</style>\n",
              "<table border=\"1\" class=\"dataframe\">\n",
              "  <thead>\n",
              "    <tr style=\"text-align: right;\">\n",
              "      <th></th>\n",
              "      <th>Airline</th>\n",
              "      <th>Source</th>\n",
              "      <th>Destination</th>\n",
              "      <th>Total_Stops</th>\n",
              "      <th>Price</th>\n",
              "      <th>Date</th>\n",
              "      <th>Month</th>\n",
              "      <th>Year</th>\n",
              "      <th>Dep_hours</th>\n",
              "      <th>Dep_min</th>\n",
              "      <th>Arrival_hours</th>\n",
              "      <th>Arrival_min</th>\n",
              "      <th>Duration_hours</th>\n",
              "      <th>Duration_min</th>\n",
              "    </tr>\n",
              "  </thead>\n",
              "  <tbody>\n",
              "    <tr>\n",
              "      <th>0</th>\n",
              "      <td>IndiGo</td>\n",
              "      <td>Banglore</td>\n",
              "      <td>New Delhi</td>\n",
              "      <td>0</td>\n",
              "      <td>3897</td>\n",
              "      <td>24</td>\n",
              "      <td>3</td>\n",
              "      <td>2019</td>\n",
              "      <td>22</td>\n",
              "      <td>20</td>\n",
              "      <td>1</td>\n",
              "      <td>10</td>\n",
              "      <td>2</td>\n",
              "      <td>50</td>\n",
              "    </tr>\n",
              "    <tr>\n",
              "      <th>1</th>\n",
              "      <td>Air India</td>\n",
              "      <td>Kolkata</td>\n",
              "      <td>Banglore</td>\n",
              "      <td>2</td>\n",
              "      <td>7662</td>\n",
              "      <td>1</td>\n",
              "      <td>5</td>\n",
              "      <td>2019</td>\n",
              "      <td>5</td>\n",
              "      <td>50</td>\n",
              "      <td>13</td>\n",
              "      <td>15</td>\n",
              "      <td>7</td>\n",
              "      <td>25</td>\n",
              "    </tr>\n",
              "    <tr>\n",
              "      <th>2</th>\n",
              "      <td>Jet Airways</td>\n",
              "      <td>Delhi</td>\n",
              "      <td>Cochin</td>\n",
              "      <td>2</td>\n",
              "      <td>13882</td>\n",
              "      <td>9</td>\n",
              "      <td>6</td>\n",
              "      <td>2019</td>\n",
              "      <td>9</td>\n",
              "      <td>25</td>\n",
              "      <td>4</td>\n",
              "      <td>25</td>\n",
              "      <td>19</td>\n",
              "      <td>0</td>\n",
              "    </tr>\n",
              "    <tr>\n",
              "      <th>3</th>\n",
              "      <td>IndiGo</td>\n",
              "      <td>Kolkata</td>\n",
              "      <td>Banglore</td>\n",
              "      <td>1</td>\n",
              "      <td>6218</td>\n",
              "      <td>12</td>\n",
              "      <td>5</td>\n",
              "      <td>2019</td>\n",
              "      <td>18</td>\n",
              "      <td>5</td>\n",
              "      <td>23</td>\n",
              "      <td>30</td>\n",
              "      <td>5</td>\n",
              "      <td>25</td>\n",
              "    </tr>\n",
              "    <tr>\n",
              "      <th>4</th>\n",
              "      <td>IndiGo</td>\n",
              "      <td>Banglore</td>\n",
              "      <td>New Delhi</td>\n",
              "      <td>1</td>\n",
              "      <td>13302</td>\n",
              "      <td>1</td>\n",
              "      <td>3</td>\n",
              "      <td>2019</td>\n",
              "      <td>16</td>\n",
              "      <td>50</td>\n",
              "      <td>21</td>\n",
              "      <td>35</td>\n",
              "      <td>4</td>\n",
              "      <td>45</td>\n",
              "    </tr>\n",
              "  </tbody>\n",
              "</table>\n",
              "</div>\n",
              "    <div class=\"colab-df-buttons\">\n",
              "\n",
              "  <div class=\"colab-df-container\">\n",
              "    <button class=\"colab-df-convert\" onclick=\"convertToInteractive('df-7cda01d1-fd8c-4f34-9a27-9024ed47249d')\"\n",
              "            title=\"Convert this dataframe to an interactive table.\"\n",
              "            style=\"display:none;\">\n",
              "\n",
              "  <svg xmlns=\"http://www.w3.org/2000/svg\" height=\"24px\" viewBox=\"0 -960 960 960\">\n",
              "    <path d=\"M120-120v-720h720v720H120Zm60-500h600v-160H180v160Zm220 220h160v-160H400v160Zm0 220h160v-160H400v160ZM180-400h160v-160H180v160Zm440 0h160v-160H620v160ZM180-180h160v-160H180v160Zm440 0h160v-160H620v160Z\"/>\n",
              "  </svg>\n",
              "    </button>\n",
              "\n",
              "  <style>\n",
              "    .colab-df-container {\n",
              "      display:flex;\n",
              "      gap: 12px;\n",
              "    }\n",
              "\n",
              "    .colab-df-convert {\n",
              "      background-color: #E8F0FE;\n",
              "      border: none;\n",
              "      border-radius: 50%;\n",
              "      cursor: pointer;\n",
              "      display: none;\n",
              "      fill: #1967D2;\n",
              "      height: 32px;\n",
              "      padding: 0 0 0 0;\n",
              "      width: 32px;\n",
              "    }\n",
              "\n",
              "    .colab-df-convert:hover {\n",
              "      background-color: #E2EBFA;\n",
              "      box-shadow: 0px 1px 2px rgba(60, 64, 67, 0.3), 0px 1px 3px 1px rgba(60, 64, 67, 0.15);\n",
              "      fill: #174EA6;\n",
              "    }\n",
              "\n",
              "    .colab-df-buttons div {\n",
              "      margin-bottom: 4px;\n",
              "    }\n",
              "\n",
              "    [theme=dark] .colab-df-convert {\n",
              "      background-color: #3B4455;\n",
              "      fill: #D2E3FC;\n",
              "    }\n",
              "\n",
              "    [theme=dark] .colab-df-convert:hover {\n",
              "      background-color: #434B5C;\n",
              "      box-shadow: 0px 1px 3px 1px rgba(0, 0, 0, 0.15);\n",
              "      filter: drop-shadow(0px 1px 2px rgba(0, 0, 0, 0.3));\n",
              "      fill: #FFFFFF;\n",
              "    }\n",
              "  </style>\n",
              "\n",
              "    <script>\n",
              "      const buttonEl =\n",
              "        document.querySelector('#df-7cda01d1-fd8c-4f34-9a27-9024ed47249d button.colab-df-convert');\n",
              "      buttonEl.style.display =\n",
              "        google.colab.kernel.accessAllowed ? 'block' : 'none';\n",
              "\n",
              "      async function convertToInteractive(key) {\n",
              "        const element = document.querySelector('#df-7cda01d1-fd8c-4f34-9a27-9024ed47249d');\n",
              "        const dataTable =\n",
              "          await google.colab.kernel.invokeFunction('convertToInteractive',\n",
              "                                                    [key], {});\n",
              "        if (!dataTable) return;\n",
              "\n",
              "        const docLinkHtml = 'Like what you see? Visit the ' +\n",
              "          '<a target=\"_blank\" href=https://colab.research.google.com/notebooks/data_table.ipynb>data table notebook</a>'\n",
              "          + ' to learn more about interactive tables.';\n",
              "        element.innerHTML = '';\n",
              "        dataTable['output_type'] = 'display_data';\n",
              "        await google.colab.output.renderOutput(dataTable, element);\n",
              "        const docLink = document.createElement('div');\n",
              "        docLink.innerHTML = docLinkHtml;\n",
              "        element.appendChild(docLink);\n",
              "      }\n",
              "    </script>\n",
              "  </div>\n",
              "\n",
              "\n",
              "<div id=\"df-8cc452b9-f974-48be-a619-9eb1ae5a1d9f\">\n",
              "  <button class=\"colab-df-quickchart\" onclick=\"quickchart('df-8cc452b9-f974-48be-a619-9eb1ae5a1d9f')\"\n",
              "            title=\"Suggest charts\"\n",
              "            style=\"display:none;\">\n",
              "\n",
              "<svg xmlns=\"http://www.w3.org/2000/svg\" height=\"24px\"viewBox=\"0 0 24 24\"\n",
              "     width=\"24px\">\n",
              "    <g>\n",
              "        <path d=\"M19 3H5c-1.1 0-2 .9-2 2v14c0 1.1.9 2 2 2h14c1.1 0 2-.9 2-2V5c0-1.1-.9-2-2-2zM9 17H7v-7h2v7zm4 0h-2V7h2v10zm4 0h-2v-4h2v4z\"/>\n",
              "    </g>\n",
              "</svg>\n",
              "  </button>\n",
              "\n",
              "<style>\n",
              "  .colab-df-quickchart {\n",
              "      --bg-color: #E8F0FE;\n",
              "      --fill-color: #1967D2;\n",
              "      --hover-bg-color: #E2EBFA;\n",
              "      --hover-fill-color: #174EA6;\n",
              "      --disabled-fill-color: #AAA;\n",
              "      --disabled-bg-color: #DDD;\n",
              "  }\n",
              "\n",
              "  [theme=dark] .colab-df-quickchart {\n",
              "      --bg-color: #3B4455;\n",
              "      --fill-color: #D2E3FC;\n",
              "      --hover-bg-color: #434B5C;\n",
              "      --hover-fill-color: #FFFFFF;\n",
              "      --disabled-bg-color: #3B4455;\n",
              "      --disabled-fill-color: #666;\n",
              "  }\n",
              "\n",
              "  .colab-df-quickchart {\n",
              "    background-color: var(--bg-color);\n",
              "    border: none;\n",
              "    border-radius: 50%;\n",
              "    cursor: pointer;\n",
              "    display: none;\n",
              "    fill: var(--fill-color);\n",
              "    height: 32px;\n",
              "    padding: 0;\n",
              "    width: 32px;\n",
              "  }\n",
              "\n",
              "  .colab-df-quickchart:hover {\n",
              "    background-color: var(--hover-bg-color);\n",
              "    box-shadow: 0 1px 2px rgba(60, 64, 67, 0.3), 0 1px 3px 1px rgba(60, 64, 67, 0.15);\n",
              "    fill: var(--button-hover-fill-color);\n",
              "  }\n",
              "\n",
              "  .colab-df-quickchart-complete:disabled,\n",
              "  .colab-df-quickchart-complete:disabled:hover {\n",
              "    background-color: var(--disabled-bg-color);\n",
              "    fill: var(--disabled-fill-color);\n",
              "    box-shadow: none;\n",
              "  }\n",
              "\n",
              "  .colab-df-spinner {\n",
              "    border: 2px solid var(--fill-color);\n",
              "    border-color: transparent;\n",
              "    border-bottom-color: var(--fill-color);\n",
              "    animation:\n",
              "      spin 1s steps(1) infinite;\n",
              "  }\n",
              "\n",
              "  @keyframes spin {\n",
              "    0% {\n",
              "      border-color: transparent;\n",
              "      border-bottom-color: var(--fill-color);\n",
              "      border-left-color: var(--fill-color);\n",
              "    }\n",
              "    20% {\n",
              "      border-color: transparent;\n",
              "      border-left-color: var(--fill-color);\n",
              "      border-top-color: var(--fill-color);\n",
              "    }\n",
              "    30% {\n",
              "      border-color: transparent;\n",
              "      border-left-color: var(--fill-color);\n",
              "      border-top-color: var(--fill-color);\n",
              "      border-right-color: var(--fill-color);\n",
              "    }\n",
              "    40% {\n",
              "      border-color: transparent;\n",
              "      border-right-color: var(--fill-color);\n",
              "      border-top-color: var(--fill-color);\n",
              "    }\n",
              "    60% {\n",
              "      border-color: transparent;\n",
              "      border-right-color: var(--fill-color);\n",
              "    }\n",
              "    80% {\n",
              "      border-color: transparent;\n",
              "      border-right-color: var(--fill-color);\n",
              "      border-bottom-color: var(--fill-color);\n",
              "    }\n",
              "    90% {\n",
              "      border-color: transparent;\n",
              "      border-bottom-color: var(--fill-color);\n",
              "    }\n",
              "  }\n",
              "</style>\n",
              "\n",
              "  <script>\n",
              "    async function quickchart(key) {\n",
              "      const quickchartButtonEl =\n",
              "        document.querySelector('#' + key + ' button');\n",
              "      quickchartButtonEl.disabled = true;  // To prevent multiple clicks.\n",
              "      quickchartButtonEl.classList.add('colab-df-spinner');\n",
              "      try {\n",
              "        const charts = await google.colab.kernel.invokeFunction(\n",
              "            'suggestCharts', [key], {});\n",
              "      } catch (error) {\n",
              "        console.error('Error during call to suggestCharts:', error);\n",
              "      }\n",
              "      quickchartButtonEl.classList.remove('colab-df-spinner');\n",
              "      quickchartButtonEl.classList.add('colab-df-quickchart-complete');\n",
              "    }\n",
              "    (() => {\n",
              "      let quickchartButtonEl =\n",
              "        document.querySelector('#df-8cc452b9-f974-48be-a619-9eb1ae5a1d9f button');\n",
              "      quickchartButtonEl.style.display =\n",
              "        google.colab.kernel.accessAllowed ? 'block' : 'none';\n",
              "    })();\n",
              "  </script>\n",
              "</div>\n",
              "\n",
              "    </div>\n",
              "  </div>\n"
            ],
            "application/vnd.google.colaboratory.intrinsic+json": {
              "type": "dataframe",
              "variable_name": "df",
              "summary": "{\n  \"name\": \"df\",\n  \"rows\": 10683,\n  \"fields\": [\n    {\n      \"column\": \"Airline\",\n      \"properties\": {\n        \"dtype\": \"category\",\n        \"num_unique_values\": 12,\n        \"samples\": [\n          \"Multiple carriers Premium economy\",\n          \"Jet Airways Business\",\n          \"IndiGo\"\n        ],\n        \"semantic_type\": \"\",\n        \"description\": \"\"\n      }\n    },\n    {\n      \"column\": \"Source\",\n      \"properties\": {\n        \"dtype\": \"category\",\n        \"num_unique_values\": 5,\n        \"samples\": [\n          \"Kolkata\",\n          \"Mumbai\",\n          \"Delhi\"\n        ],\n        \"semantic_type\": \"\",\n        \"description\": \"\"\n      }\n    },\n    {\n      \"column\": \"Destination\",\n      \"properties\": {\n        \"dtype\": \"category\",\n        \"num_unique_values\": 6,\n        \"samples\": [\n          \"New Delhi\",\n          \"Banglore\",\n          \"Hyderabad\"\n        ],\n        \"semantic_type\": \"\",\n        \"description\": \"\"\n      }\n    },\n    {\n      \"column\": \"Total_Stops\",\n      \"properties\": {\n        \"dtype\": \"category\",\n        \"num_unique_values\": 5,\n        \"samples\": [\n          \"2\",\n          \"4\",\n          \"1\"\n        ],\n        \"semantic_type\": \"\",\n        \"description\": \"\"\n      }\n    },\n    {\n      \"column\": \"Price\",\n      \"properties\": {\n        \"dtype\": \"category\",\n        \"num_unique_values\": 1870,\n        \"samples\": [\n          \"10810\",\n          \"4588\",\n          \"10056\"\n        ],\n        \"semantic_type\": \"\",\n        \"description\": \"\"\n      }\n    },\n    {\n      \"column\": \"Date\",\n      \"properties\": {\n        \"dtype\": \"category\",\n        \"num_unique_values\": 10,\n        \"samples\": [\n          \"6\",\n          \"1\",\n          \"18\"\n        ],\n        \"semantic_type\": \"\",\n        \"description\": \"\"\n      }\n    },\n    {\n      \"column\": \"Month\",\n      \"properties\": {\n        \"dtype\": \"category\",\n        \"num_unique_values\": 4,\n        \"samples\": [\n          \"5\",\n          \"4\",\n          \"3\"\n        ],\n        \"semantic_type\": \"\",\n        \"description\": \"\"\n      }\n    },\n    {\n      \"column\": \"Year\",\n      \"properties\": {\n        \"dtype\": \"object\",\n        \"num_unique_values\": 1,\n        \"samples\": [\n          \"2019\"\n        ],\n        \"semantic_type\": \"\",\n        \"description\": \"\"\n      }\n    },\n    {\n      \"column\": \"Dep_hours\",\n      \"properties\": {\n        \"dtype\": \"category\",\n        \"num_unique_values\": 24,\n        \"samples\": [\n          \"21\"\n        ],\n        \"semantic_type\": \"\",\n        \"description\": \"\"\n      }\n    },\n    {\n      \"column\": \"Dep_min\",\n      \"properties\": {\n        \"dtype\": \"category\",\n        \"num_unique_values\": 12,\n        \"samples\": [\n          \"35\"\n        ],\n        \"semantic_type\": \"\",\n        \"description\": \"\"\n      }\n    },\n    {\n      \"column\": \"Arrival_hours\",\n      \"properties\": {\n        \"dtype\": \"category\",\n        \"num_unique_values\": 24,\n        \"samples\": [\n          \"19\"\n        ],\n        \"semantic_type\": \"\",\n        \"description\": \"\"\n      }\n    },\n    {\n      \"column\": \"Arrival_min\",\n      \"properties\": {\n        \"dtype\": \"category\",\n        \"num_unique_values\": 12,\n        \"samples\": [\n          \"45\"\n        ],\n        \"semantic_type\": \"\",\n        \"description\": \"\"\n      }\n    },\n    {\n      \"column\": \"Duration_hours\",\n      \"properties\": {\n        \"dtype\": \"category\",\n        \"num_unique_values\": 43,\n        \"samples\": [\n          \"32\"\n        ],\n        \"semantic_type\": \"\",\n        \"description\": \"\"\n      }\n    },\n    {\n      \"column\": \"Duration_min\",\n      \"properties\": {\n        \"dtype\": \"category\",\n        \"num_unique_values\": 12,\n        \"samples\": [\n          \"55\"\n        ],\n        \"semantic_type\": \"\",\n        \"description\": \"\"\n      }\n    }\n  ]\n}"
            }
          },
          "metadata": {},
          "execution_count": 6
        }
      ]
    },
    {
      "cell_type": "markdown",
      "source": [
        "# Inspect The Data"
      ],
      "metadata": {
        "id": "SGMAgTtm6UhJ"
      }
    },
    {
      "cell_type": "code",
      "source": [
        "import random\n",
        "random.seed(42)"
      ],
      "metadata": {
        "id": "xoKFltr0aV8W"
      },
      "execution_count": null,
      "outputs": []
    },
    {
      "cell_type": "code",
      "source": [
        "random_index = random.randint(0, len(df) - 1)\n",
        "df.iloc[random_index]"
      ],
      "metadata": {
        "colab": {
          "base_uri": "https://localhost:8080/"
        },
        "id": "_qmq12V3ak4N",
        "outputId": "3bf12079-f77a-4a18-acff-7d16efc21484"
      },
      "execution_count": null,
      "outputs": [
        {
          "output_type": "execute_result",
          "data": {
            "text/plain": [
              "Airline           Jet Airways\n",
              "Source                  Delhi\n",
              "Destination            Cochin\n",
              "Total_Stops                 1\n",
              "Price                    6017\n",
              "Date                       21\n",
              "Month                       3\n",
              "Year                     2019\n",
              "Dep_hours                  15\n",
              "Dep_min                     0\n",
              "Arrival_hours               4\n",
              "Arrival_min                25\n",
              "Duration_hours             13\n",
              "Duration_min               25\n",
              "Name: 10476, dtype: object"
            ]
          },
          "metadata": {},
          "execution_count": 8
        }
      ]
    },
    {
      "cell_type": "code",
      "source": [
        "df[\"Year\"].hist()"
      ],
      "metadata": {
        "colab": {
          "base_uri": "https://localhost:8080/",
          "height": 448
        },
        "id": "KskSJYTGbBxS",
        "outputId": "f9cfe9d6-545e-47ff-b9e6-7c0a0921e493"
      },
      "execution_count": null,
      "outputs": [
        {
          "output_type": "execute_result",
          "data": {
            "text/plain": [
              "<Axes: >"
            ]
          },
          "metadata": {},
          "execution_count": 9
        },
        {
          "output_type": "display_data",
          "data": {
            "text/plain": [
              "<Figure size 640x480 with 1 Axes>"
            ],
            "image/png": "[encoded data removed]"
          },
          "metadata": {}
        }
      ]
    },
    {
      "cell_type": "markdown",
      "source": [
        "# Create Train and Test Splits"
      ],
      "metadata": {
        "id": "b7EIw3uV6aMe"
      }
    },
    {
      "cell_type": "code",
      "source": [
        "train_test_split = int(len(df) * 0.8)\n",
        "train_test_split"
      ],
      "metadata": {
        "colab": {
          "base_uri": "https://localhost:8080/"
        },
        "id": "bmolxId3TlWE",
        "outputId": "5237174c-ec4f-4439-9918-a8161c717d83"
      },
      "execution_count": null,
      "outputs": [
        {
          "output_type": "execute_result",
          "data": {
            "text/plain": [
              "8546"
            ]
          },
          "metadata": {},
          "execution_count": 10
        }
      ]
    },
    {
      "cell_type": "code",
      "source": [
        "X_train, y_train = df.drop('Price', axis=1)[:train_test_split], df['Price'][:train_test_split]\n",
        "X_test, y_test = df.drop('Price', axis=1)[train_test_split:], df['Price'][train_test_split:]\n",
        "\n",
        "len(X_train), len(y_train), len(X_test), len(y_test)"
      ],
      "metadata": {
        "colab": {
          "base_uri": "https://localhost:8080/"
        },
        "id": "HYUXPkD2T5b9",
        "outputId": "c4c91451-3a60-4e1c-8998-380f0e1922f5"
      },
      "execution_count": null,
      "outputs": [
        {
          "output_type": "execute_result",
          "data": {
            "text/plain": [
              "(8546, 8546, 2137, 2137)"
            ]
          },
          "metadata": {},
          "execution_count": 11
        }
      ]
    },
    {
      "cell_type": "markdown",
      "source": [
        "# Preprocess the Data"
      ],
      "metadata": {
        "id": "2XpoxJaD6eI1"
      }
    },
    {
      "cell_type": "code",
      "source": [
        "from sklearn.compose import make_column_transformer\n",
        "from sklearn.preprocessing import MinMaxScaler, OneHotEncoder\n",
        "\n",
        "ct = make_column_transformer(\n",
        "    (MinMaxScaler(),[\"Total_Stops\", \"Date\", \"Month\", \"Year\", \"Dep_hours\", \"Dep_min\", \"Arrival_hours\", \"Arrival_min\", \"Duration_hours\", \"Duration_min\"]),\n",
        "    (OneHotEncoder(handle_unknown=\"ignore\"), [\"Destination\", \"Source\", \"Airline\"])\n",
        ")\n",
        "\n",
        "ct.fit(X_train)\n",
        "\n",
        "X_train_normal = ct.transform(X_train)\n",
        "X_test_normal = ct.transform(X_test)"
      ],
      "metadata": {
        "id": "RKy1AXlhUOtn"
      },
      "execution_count": null,
      "outputs": []
    },
    {
      "cell_type": "code",
      "source": [
        "X_train_normal[0], X_test_normal[0]"
      ],
      "metadata": {
        "colab": {
          "base_uri": "https://localhost:8080/"
        },
        "id": "o0QvnwtoXE7t",
        "outputId": "9c16b05f-0afc-4cf3-d4a5-1318fcd60638"
      },
      "execution_count": null,
      "outputs": [
        {
          "output_type": "execute_result",
          "data": {
            "text/plain": [
              "(array([0.        , 0.88461538, 0.        , 0.        , 0.95652174,\n",
              "        0.36363636, 0.04347826, 0.18181818, 0.02173913, 0.90909091,\n",
              "        0.        , 0.        , 0.        , 0.        , 0.        ,\n",
              "        1.        , 1.        , 0.        , 0.        , 0.        ,\n",
              "        0.        , 0.        , 0.        , 0.        , 1.        ,\n",
              "        0.        , 0.        , 0.        , 0.        , 0.        ,\n",
              "        0.        , 0.        , 0.        ]),\n",
              " array([0.66666667, 1.        , 0.        , 0.        , 0.2173913 ,\n",
              "        0.18181818, 0.7826087 , 0.90909091, 0.26086957, 0.72727273,\n",
              "        0.        , 1.        , 0.        , 0.        , 0.        ,\n",
              "        0.        , 0.        , 0.        , 1.        , 0.        ,\n",
              "        0.        , 0.        , 0.        , 0.        , 0.        ,\n",
              "        1.        , 0.        , 0.        , 0.        , 0.        ,\n",
              "        0.        , 0.        , 0.        ]))"
            ]
          },
          "metadata": {},
          "execution_count": 13
        }
      ]
    },
    {
      "cell_type": "code",
      "source": [
        "X_train_normal.shape, X_test_normal.shape"
      ],
      "metadata": {
        "colab": {
          "base_uri": "https://localhost:8080/"
        },
        "id": "N-lDgbuZXISy",
        "outputId": "1378147a-7be8-4bc0-f980-1db4d6d77e31"
      },
      "execution_count": null,
      "outputs": [
        {
          "output_type": "execute_result",
          "data": {
            "text/plain": [
              "((8546, 33), (2137, 33))"
            ]
          },
          "metadata": {},
          "execution_count": 14
        }
      ]
    },
    {
      "cell_type": "code",
      "source": [
        "X_train.shape, X_test.shape"
      ],
      "metadata": {
        "colab": {
          "base_uri": "https://localhost:8080/"
        },
        "id": "rLRidt-EXjGP",
        "outputId": "7d91917c-0c5b-43a4-eef5-6621c6c098d0"
      },
      "execution_count": null,
      "outputs": [
        {
          "output_type": "execute_result",
          "data": {
            "text/plain": [
              "((8546, 13), (2137, 13))"
            ]
          },
          "metadata": {},
          "execution_count": 15
        }
      ]
    },
    {
      "cell_type": "code",
      "source": [
        "[0., 0.88461538, 0., 0., 0.95652174, 0.36363636, 0.04347826, 0.18181818, 0.02173913, 0.90909091, 0., 0., 0., 0., 0., 1., 1., 0., 0., 0., 0., 0., 0., 0., 1., 0., 0., 0., 0., 0., 0., 0., 0.]"
      ],
      "metadata": {
        "colab": {
          "base_uri": "https://localhost:8080/"
        },
        "id": "DToYBSZNXoiO",
        "outputId": "624ee5cc-db0e-4a91-9c22-3d2fee9750b0"
      },
      "execution_count": null,
      "outputs": [
        {
          "output_type": "execute_result",
          "data": {
            "text/plain": [
              "[0.0,\n",
              " 0.88461538,\n",
              " 0.0,\n",
              " 0.0,\n",
              " 0.95652174,\n",
              " 0.36363636,\n",
              " 0.04347826,\n",
              " 0.18181818,\n",
              " 0.02173913,\n",
              " 0.90909091,\n",
              " 0.0,\n",
              " 0.0,\n",
              " 0.0,\n",
              " 0.0,\n",
              " 0.0,\n",
              " 1.0,\n",
              " 1.0,\n",
              " 0.0,\n",
              " 0.0,\n",
              " 0.0,\n",
              " 0.0,\n",
              " 0.0,\n",
              " 0.0,\n",
              " 0.0,\n",
              " 1.0,\n",
              " 0.0,\n",
              " 0.0,\n",
              " 0.0,\n",
              " 0.0,\n",
              " 0.0,\n",
              " 0.0,\n",
              " 0.0,\n",
              " 0.0]"
            ]
          },
          "metadata": {},
          "execution_count": 16
        }
      ]
    },
    {
      "cell_type": "markdown",
      "source": [
        "IndiGo, Air India, Jet Airways\n",
        "1,    , 0        , 0"
      ],
      "metadata": {
        "id": "KLTiBNj6YU26"
      }
    },
    {
      "cell_type": "markdown",
      "source": [
        "+, *, /, -\n",
        "\n",
        "2\n",
        "24\n",
        "\n",
        "0, 1\n",
        "\n",
        "2"
      ],
      "metadata": {
        "id": "tmyJya21ZIEN"
      }
    },
    {
      "cell_type": "code",
      "source": [
        "import numpy as np\n",
        "import tensorflow as tf\n",
        "\n",
        "y_train = np.array(y_train, dtype=np.float32)"
      ],
      "metadata": {
        "id": "7ke-a-IGfuly"
      },
      "execution_count": null,
      "outputs": []
    },
    {
      "cell_type": "markdown",
      "source": [
        "# Build, Compile, and Fit the model"
      ],
      "metadata": {
        "id": "gWzHFB3R6j1v"
      }
    },
    {
      "cell_type": "code",
      "source": [
        "tf.random.set_seed(42)\n",
        "\n",
        "model = tf.keras.Sequential([\n",
        "    tf.keras.layers.Dense(33),\n",
        "    tf.keras.layers.Dense(100),\n",
        "    tf.keras.layers.Dense(100),\n",
        "    tf.keras.layers.Dense(1)\n",
        "], name=\"flight_price_model\")\n",
        "\n",
        "model.compile(loss=tf.keras.losses.mae, # Loss function: It quantifies the difference between a model’s predicted outputs and the actual target values.\n",
        "                                        # Mean Absolute Error: It quantifies the average absolute difference between the predicted values and the actual target values.\n",
        "              optimizer=tf.keras.optimizers.Adam(), # Optimizer: Specialized algorithms that dynamically refine the weights and biases based on feedback from the data, aiming to converge upon optimal model parameters.\n",
        "              metrics=[\"mae\"])\n",
        "\n",
        "model_history = model.fit(X_train_normal, # The preprocessed data that has been onehot encoded and MinMaxScaled\n",
        "                          y_train, # The prices of each flight that we are using to train the model on\n",
        "                          epochs=100) # One epoch = one complete pass through the entire training datase"
      ],
      "metadata": {
        "colab": {
          "base_uri": "https://localhost:8080/"
        },
        "id": "kmMl01fEaLJd",
        "outputId": "b1d803ed-b0f8-4342-e57a-a8585a608ebe"
      },
      "execution_count": null,
      "outputs": [
        {
          "output_type": "stream",
          "name": "stdout",
          "text": [
            "Epoch 1/100\n",
            "268/268 [==============================] - 1s 2ms/step - loss: 5202.7964 - mae: 5202.7964\n",
            "Epoch 2/100\n",
            "268/268 [==============================] - 0s 2ms/step - loss: 2266.4546 - mae: 2266.4546\n",
            "Epoch 3/100\n",
            "268/268 [==============================] - 0s 2ms/step - loss: 2053.4121 - mae: 2053.4121\n",
            "Epoch 4/100\n",
            "268/268 [==============================] - 0s 2ms/step - loss: 1999.1429 - mae: 1999.1429\n",
            "Epoch 5/100\n",
            "268/268 [==============================] - 0s 2ms/step - loss: 1966.5516 - mae: 1966.5516\n",
            "Epoch 6/100\n",
            "268/268 [==============================] - 0s 2ms/step - loss: 1954.4604 - mae: 1954.4604\n",
            "Epoch 7/100\n",
            "268/268 [==============================] - 0s 2ms/step - loss: 1948.8405 - mae: 1948.8405\n",
            "Epoch 8/100\n",
            "268/268 [==============================] - 0s 2ms/step - loss: 1944.6710 - mae: 1944.6710\n",
            "Epoch 9/100\n",
            "268/268 [==============================] - 0s 2ms/step - loss: 1938.7792 - mae: 1938.7792\n",
            "Epoch 10/100\n",
            "268/268 [==============================] - 0s 2ms/step - loss: 1936.7185 - mae: 1936.7185\n",
            "Epoch 11/100\n",
            "268/268 [==============================] - 0s 2ms/step - loss: 1935.7677 - mae: 1935.7677\n",
            "Epoch 12/100\n",
            "268/268 [==============================] - 0s 2ms/step - loss: 1933.0004 - mae: 1933.0004\n",
            "Epoch 13/100\n",
            "268/268 [==============================] - 0s 2ms/step - loss: 1932.2400 - mae: 1932.2400\n",
            "Epoch 14/100\n",
            "268/268 [==============================] - 0s 2ms/step - loss: 1931.9751 - mae: 1931.9751\n",
            "Epoch 15/100\n",
            "268/268 [==============================] - 0s 2ms/step - loss: 1931.0305 - mae: 1931.0305\n",
            "Epoch 16/100\n",
            "268/268 [==============================] - 0s 2ms/step - loss: 1930.9072 - mae: 1930.9072\n",
            "Epoch 17/100\n",
            "268/268 [==============================] - 0s 2ms/step - loss: 1930.6603 - mae: 1930.6603\n",
            "Epoch 18/100\n",
            "268/268 [==============================] - 0s 2ms/step - loss: 1927.9010 - mae: 1927.9010\n",
            "Epoch 19/100\n",
            "268/268 [==============================] - 0s 2ms/step - loss: 1927.3372 - mae: 1927.3372\n",
            "Epoch 20/100\n",
            "268/268 [==============================] - 0s 2ms/step - loss: 1927.4352 - mae: 1927.4352\n",
            "Epoch 21/100\n",
            "268/268 [==============================] - 1s 2ms/step - loss: 1928.0378 - mae: 1928.0378\n",
            "Epoch 22/100\n",
            "268/268 [==============================] - 1s 2ms/step - loss: 1925.6614 - mae: 1925.6614\n",
            "Epoch 23/100\n",
            "268/268 [==============================] - 0s 2ms/step - loss: 1923.2960 - mae: 1923.2960\n",
            "Epoch 24/100\n",
            "268/268 [==============================] - 0s 2ms/step - loss: 1923.0349 - mae: 1923.0349\n",
            "Epoch 25/100\n",
            "268/268 [==============================] - 1s 2ms/step - loss: 1924.9514 - mae: 1924.9514\n",
            "Epoch 26/100\n",
            "268/268 [==============================] - 1s 2ms/step - loss: 1928.7610 - mae: 1928.7610\n",
            "Epoch 27/100\n",
            "268/268 [==============================] - 0s 2ms/step - loss: 1923.6234 - mae: 1923.6234\n",
            "Epoch 28/100\n",
            "268/268 [==============================] - 0s 2ms/step - loss: 1926.6310 - mae: 1926.6310\n",
            "Epoch 29/100\n",
            "268/268 [==============================] - 1s 2ms/step - loss: 1923.9658 - mae: 1923.9658\n",
            "Epoch 30/100\n",
            "268/268 [==============================] - 0s 2ms/step - loss: 1923.0240 - mae: 1923.0240\n",
            "Epoch 31/100\n",
            "268/268 [==============================] - 0s 2ms/step - loss: 1923.8282 - mae: 1923.8282\n",
            "Epoch 32/100\n",
            "268/268 [==============================] - 0s 2ms/step - loss: 1921.5463 - mae: 1921.5463\n",
            "Epoch 33/100\n",
            "268/268 [==============================] - 0s 2ms/step - loss: 1924.8380 - mae: 1924.8380\n",
            "Epoch 34/100\n",
            "268/268 [==============================] - 0s 2ms/step - loss: 1921.4261 - mae: 1921.4261\n",
            "Epoch 35/100\n",
            "268/268 [==============================] - 0s 2ms/step - loss: 1921.3918 - mae: 1921.3918\n",
            "Epoch 36/100\n",
            "268/268 [==============================] - 0s 2ms/step - loss: 1924.9995 - mae: 1924.9995\n",
            "Epoch 37/100\n",
            "268/268 [==============================] - 0s 2ms/step - loss: 1924.4749 - mae: 1924.4749\n",
            "Epoch 38/100\n",
            "268/268 [==============================] - 0s 2ms/step - loss: 1922.0680 - mae: 1922.0680\n",
            "Epoch 39/100\n",
            "268/268 [==============================] - 0s 2ms/step - loss: 1923.0441 - mae: 1923.0441\n",
            "Epoch 40/100\n",
            "268/268 [==============================] - 0s 2ms/step - loss: 1920.2769 - mae: 1920.2769\n",
            "Epoch 41/100\n",
            "268/268 [==============================] - 0s 2ms/step - loss: 1925.9486 - mae: 1925.9486\n",
            "Epoch 42/100\n",
            "268/268 [==============================] - 0s 2ms/step - loss: 1922.2357 - mae: 1922.2357\n",
            "Epoch 43/100\n",
            "268/268 [==============================] - 0s 2ms/step - loss: 1923.9747 - mae: 1923.9747\n",
            "Epoch 44/100\n",
            "268/268 [==============================] - 0s 2ms/step - loss: 1918.4330 - mae: 1918.4330\n",
            "Epoch 45/100\n",
            "268/268 [==============================] - 0s 2ms/step - loss: 1924.0920 - mae: 1924.0920\n",
            "Epoch 46/100\n",
            "268/268 [==============================] - 0s 2ms/step - loss: 1920.4774 - mae: 1920.4774\n",
            "Epoch 47/100\n",
            "268/268 [==============================] - 0s 2ms/step - loss: 1922.6444 - mae: 1922.6444\n",
            "Epoch 48/100\n",
            "268/268 [==============================] - 0s 2ms/step - loss: 1919.1497 - mae: 1919.1497\n",
            "Epoch 49/100\n",
            "268/268 [==============================] - 0s 2ms/step - loss: 1918.9890 - mae: 1918.9890\n",
            "Epoch 50/100\n",
            "268/268 [==============================] - 1s 2ms/step - loss: 1922.7273 - mae: 1922.7273\n",
            "Epoch 51/100\n",
            "268/268 [==============================] - 0s 2ms/step - loss: 1919.0889 - mae: 1919.0889\n",
            "Epoch 52/100\n",
            "268/268 [==============================] - 0s 2ms/step - loss: 1926.2303 - mae: 1926.2303\n",
            "Epoch 53/100\n",
            "268/268 [==============================] - 0s 2ms/step - loss: 1918.5864 - mae: 1918.5864\n",
            "Epoch 54/100\n",
            "268/268 [==============================] - 0s 2ms/step - loss: 1924.1801 - mae: 1924.1801\n",
            "Epoch 55/100\n",
            "268/268 [==============================] - 0s 2ms/step - loss: 1919.3929 - mae: 1919.3929\n",
            "Epoch 56/100\n",
            "268/268 [==============================] - 0s 2ms/step - loss: 1918.9464 - mae: 1918.9464\n",
            "Epoch 57/100\n",
            "268/268 [==============================] - 0s 2ms/step - loss: 1918.1625 - mae: 1918.1625\n",
            "Epoch 58/100\n",
            "268/268 [==============================] - 0s 2ms/step - loss: 1918.8278 - mae: 1918.8278\n",
            "Epoch 59/100\n",
            "268/268 [==============================] - 0s 2ms/step - loss: 1921.0677 - mae: 1921.0677\n",
            "Epoch 60/100\n",
            "268/268 [==============================] - 0s 2ms/step - loss: 1920.7231 - mae: 1920.7231\n",
            "Epoch 61/100\n",
            "268/268 [==============================] - 0s 2ms/step - loss: 1921.8218 - mae: 1921.8218\n",
            "Epoch 62/100\n",
            "268/268 [==============================] - 0s 2ms/step - loss: 1922.7340 - mae: 1922.7340\n",
            "Epoch 63/100\n",
            "268/268 [==============================] - 0s 2ms/step - loss: 1917.7014 - mae: 1917.7014\n",
            "Epoch 64/100\n",
            "268/268 [==============================] - 0s 2ms/step - loss: 1919.8969 - mae: 1919.8969\n",
            "Epoch 65/100\n",
            "268/268 [==============================] - 0s 2ms/step - loss: 1918.1138 - mae: 1918.1138\n",
            "Epoch 66/100\n",
            "268/268 [==============================] - 0s 2ms/step - loss: 1920.2507 - mae: 1920.2507\n",
            "Epoch 67/100\n",
            "268/268 [==============================] - 0s 2ms/step - loss: 1919.3403 - mae: 1919.3403\n",
            "Epoch 68/100\n",
            "268/268 [==============================] - 0s 2ms/step - loss: 1915.9897 - mae: 1915.9897\n",
            "Epoch 69/100\n",
            "268/268 [==============================] - 0s 2ms/step - loss: 1920.4368 - mae: 1920.4368\n",
            "Epoch 70/100\n",
            "268/268 [==============================] - 0s 2ms/step - loss: 1915.6803 - mae: 1915.6803\n",
            "Epoch 71/100\n",
            "268/268 [==============================] - 0s 2ms/step - loss: 1918.9612 - mae: 1918.9612\n",
            "Epoch 72/100\n",
            "268/268 [==============================] - 0s 2ms/step - loss: 1918.8787 - mae: 1918.8787\n",
            "Epoch 73/100\n",
            "268/268 [==============================] - 0s 2ms/step - loss: 1918.9301 - mae: 1918.9301\n",
            "Epoch 74/100\n",
            "268/268 [==============================] - 0s 2ms/step - loss: 1918.3776 - mae: 1918.3776\n",
            "Epoch 75/100\n",
            "268/268 [==============================] - 0s 2ms/step - loss: 1918.4003 - mae: 1918.4003\n",
            "Epoch 76/100\n",
            "268/268 [==============================] - 0s 2ms/step - loss: 1919.5829 - mae: 1919.5829\n",
            "Epoch 77/100\n",
            "268/268 [==============================] - 0s 2ms/step - loss: 1919.4675 - mae: 1919.4675\n",
            "Epoch 78/100\n",
            "268/268 [==============================] - 1s 2ms/step - loss: 1915.8835 - mae: 1915.8835\n",
            "Epoch 79/100\n",
            "268/268 [==============================] - 1s 2ms/step - loss: 1915.2045 - mae: 1915.2045\n",
            "Epoch 80/100\n",
            "268/268 [==============================] - 0s 2ms/step - loss: 1919.5903 - mae: 1919.5903\n",
            "Epoch 81/100\n",
            "268/268 [==============================] - 0s 2ms/step - loss: 1916.0428 - mae: 1916.0428\n",
            "Epoch 82/100\n",
            "268/268 [==============================] - 0s 2ms/step - loss: 1920.6595 - mae: 1920.6595\n",
            "Epoch 83/100\n",
            "268/268 [==============================] - 0s 2ms/step - loss: 1919.2312 - mae: 1919.2312\n",
            "Epoch 84/100\n",
            "268/268 [==============================] - 0s 2ms/step - loss: 1915.0123 - mae: 1915.0123\n",
            "Epoch 85/100\n",
            "268/268 [==============================] - 0s 2ms/step - loss: 1915.0159 - mae: 1915.0159\n",
            "Epoch 86/100\n",
            "268/268 [==============================] - 0s 2ms/step - loss: 1914.2175 - mae: 1914.2175\n",
            "Epoch 87/100\n",
            "268/268 [==============================] - 0s 2ms/step - loss: 1916.4249 - mae: 1916.4249\n",
            "Epoch 88/100\n",
            "268/268 [==============================] - 0s 2ms/step - loss: 1913.8716 - mae: 1913.8716\n",
            "Epoch 89/100\n",
            "268/268 [==============================] - 0s 2ms/step - loss: 1919.6320 - mae: 1919.6320\n",
            "Epoch 90/100\n",
            "268/268 [==============================] - 0s 2ms/step - loss: 1918.6111 - mae: 1918.6111\n",
            "Epoch 91/100\n",
            "268/268 [==============================] - 0s 2ms/step - loss: 1913.3618 - mae: 1913.3618\n",
            "Epoch 92/100\n",
            "268/268 [==============================] - 0s 2ms/step - loss: 1918.2058 - mae: 1918.2058\n",
            "Epoch 93/100\n",
            "268/268 [==============================] - 0s 2ms/step - loss: 1916.4579 - mae: 1916.4579\n",
            "Epoch 94/100\n",
            "268/268 [==============================] - 0s 2ms/step - loss: 1911.5581 - mae: 1911.5581\n",
            "Epoch 95/100\n",
            "268/268 [==============================] - 0s 2ms/step - loss: 1917.1090 - mae: 1917.1090\n",
            "Epoch 96/100\n",
            "268/268 [==============================] - 0s 2ms/step - loss: 1913.7076 - mae: 1913.7076\n",
            "Epoch 97/100\n",
            "268/268 [==============================] - 0s 2ms/step - loss: 1912.5475 - mae: 1912.5475\n",
            "Epoch 98/100\n",
            "268/268 [==============================] - 0s 2ms/step - loss: 1913.4795 - mae: 1913.4795\n",
            "Epoch 99/100\n",
            "268/268 [==============================] - 0s 2ms/step - loss: 1912.6313 - mae: 1912.6313\n",
            "Epoch 100/100\n",
            "268/268 [==============================] - 0s 2ms/step - loss: 1914.8864 - mae: 1914.8864\n"
          ]
        }
      ]
    },
    {
      "cell_type": "markdown",
      "source": [
        "# Evaluate the Model"
      ],
      "metadata": {
        "id": "R6RtCEVa6qNH"
      }
    },
    {
      "cell_type": "code",
      "source": [
        "y_test = np.array(y_test, dtype=np.float32)\n",
        "\n",
        "model.evaluate(X_test_normal, y_test)"
      ],
      "metadata": {
        "colab": {
          "base_uri": "https://localhost:8080/"
        },
        "id": "Hnc9o0_7fe8r",
        "outputId": "313d4748-7be5-4485-9b90-f19a4811f46c"
      },
      "execution_count": null,
      "outputs": [
        {
          "output_type": "stream",
          "name": "stdout",
          "text": [
            "67/67 [==============================] - 0s 1ms/step - loss: 1860.5229 - mae: 1860.5229\n"
          ]
        },
        {
          "output_type": "execute_result",
          "data": {
            "text/plain": [
              "[1860.52294921875, 1860.52294921875]"
            ]
          },
          "metadata": {},
          "execution_count": 19
        }
      ]
    },
    {
      "cell_type": "markdown",
      "source": [
        "# Save the Model for Further Use"
      ],
      "metadata": {
        "id": "_1AtZEuE6sNt"
      }
    },
    {
      "cell_type": "code",
      "source": [
        "model.save(\"drive/MyDrive/saved_model_flight_prices\")"
      ],
      "metadata": {
        "id": "oyIbvOq5huTu"
      },
      "execution_count": null,
      "outputs": []
    },
    {
      "cell_type": "code",
      "source": [
        "loaded_model = tf.keras.models.load_model(\"drive/MyDrive/saved_model_flight_prices\")"
      ],
      "metadata": {
        "id": "oCpYfmUzhzpV"
      },
      "execution_count": null,
      "outputs": []
    },
    {
      "cell_type": "code",
      "source": [
        "loaded_model.layers"
      ],
      "metadata": {
        "colab": {
          "base_uri": "https://localhost:8080/"
        },
        "id": "q4Ryx8sTh3nb",
        "outputId": "17a140c5-c7f0-476a-a5ae-d32b3b787007"
      },
      "execution_count": null,
      "outputs": [
        {
          "output_type": "execute_result",
          "data": {
            "text/plain": [
              "[<keras.src.layers.core.dense.Dense at 0x7f27ac4e4cd0>,\n",
              " <keras.src.layers.core.dense.Dense at 0x7f27ac4e58d0>,\n",
              " <keras.src.layers.core.dense.Dense at 0x7f27ac4e7dc0>,\n",
              " <keras.src.layers.core.dense.Dense at 0x7f27ac4e6350>]"
            ]
          },
          "metadata": {},
          "execution_count": 22
        }
      ]
    },
    {
      "cell_type": "code",
      "source": [
        "loaded_model.summary()"
      ],
      "metadata": {
        "colab": {
          "base_uri": "https://localhost:8080/"
        },
        "id": "u0wvv295h512",
        "outputId": "89316989-290e-43a1-ceba-b03330e02b84"
      },
      "execution_count": null,
      "outputs": [
        {
          "output_type": "stream",
          "name": "stdout",
          "text": [
            "Model: \"flight_price_model\"\n",
            "_________________________________________________________________\n",
            " Layer (type)                Output Shape              Param #   \n",
            "=================================================================\n",
            " dense (Dense)               (None, 33)                1122      \n",
            "                                                                 \n",
            " dense_1 (Dense)             (None, 100)               3400      \n",
            "                                                                 \n",
            " dense_2 (Dense)             (None, 100)               10100     \n",
            "                                                                 \n",
            " dense_3 (Dense)             (None, 1)                 101       \n",
            "                                                                 \n",
            "=================================================================\n",
            "Total params: 14723 (57.51 KB)\n",
            "Trainable params: 14723 (57.51 KB)\n",
            "Non-trainable params: 0 (0.00 Byte)\n",
            "_________________________________________________________________\n"
          ]
        }
      ]
    }
  ]
}